{
 "cells": [
  {
   "cell_type": "code",
   "execution_count": 1,
   "id": "chubby-furniture",
   "metadata": {},
   "outputs": [],
   "source": [
    "import numpy as np"
   ]
  },
  {
   "cell_type": "code",
   "execution_count": 2,
   "id": "departmental-merit",
   "metadata": {
    "scrolled": false
   },
   "outputs": [],
   "source": [
    "from cardsample_problem import *"
   ]
  },
  {
   "cell_type": "code",
   "execution_count": 3,
   "id": "beginning-boston",
   "metadata": {
    "scrolled": false
   },
   "outputs": [
    {
     "data": {
      "text/plain": [
       "[State(('0',)),\n",
       " State(('1',)),\n",
       " State(('00', '0')),\n",
       " State(('10', '0')),\n",
       " State(('00', '1')),\n",
       " State(('10', '1')),\n",
       " State(('01', '0')),\n",
       " State(('11', '0')),\n",
       " State(('01', '1')),\n",
       " State(('11', '1')),\n",
       " State(('00', '00', '1')),\n",
       " State(('00', '10', '1')),\n",
       " State(('10', '10', '1')),\n",
       " State(('00', '01', '0')),\n",
       " State(('00', '11', '0')),\n",
       " State(('00', '01', '1')),\n",
       " State(('00', '11', '1')),\n",
       " State(('01', '10', '0')),\n",
       " State(('10', '11', '0')),\n",
       " State(('01', '10', '1')),\n",
       " State(('10', '11', '1')),\n",
       " State(('01', '01', '0')),\n",
       " State(('01', '11', '0')),\n",
       " State(('11', '11', '0')),\n",
       " State(('00', '00', '01', '1')),\n",
       " State(('00', '00', '11', '1')),\n",
       " State(('00', '01', '10', '1')),\n",
       " State(('00', '10', '11', '1')),\n",
       " State(('01', '10', '10', '1')),\n",
       " State(('10', '10', '11', '1')),\n",
       " State(('00', '01', '01', '0')),\n",
       " State(('00', '01', '11', '0')),\n",
       " State(('00', '11', '11', '0')),\n",
       " State(('01', '01', '10', '0')),\n",
       " State(('01', '10', '11', '0')),\n",
       " State(('10', '11', '11', '0')),\n",
       " State(('00', '00', '01', '01', '$')),\n",
       " State(('00', '00', '01', '11', '$')),\n",
       " State(('00', '00', '11', '11', '$')),\n",
       " State(('00', '01', '01', '10', '$')),\n",
       " State(('00', '01', '10', '11', '$')),\n",
       " State(('00', '10', '11', '11', '$')),\n",
       " State(('01', '01', '10', '10', '$')),\n",
       " State(('01', '10', '10', '11', '$')),\n",
       " State(('10', '10', '11', '11', '$'))]"
      ]
     },
     "execution_count": 3,
     "metadata": {},
     "output_type": "execute_result"
    }
   ],
   "source": [
    "res = create_all_states()\n",
    "res"
   ]
  },
  {
   "cell_type": "code",
   "execution_count": 4,
   "id": "arbitrary-ladder",
   "metadata": {},
   "outputs": [
    {
     "data": {
      "text/plain": [
       "[Observation(('01',)),\n",
       " Observation(('10',)),\n",
       " Observation(('01',)),\n",
       " Observation(('10',)),\n",
       " Observation(('00',)),\n",
       " Observation(('11',)),\n",
       " Observation(('00',)),\n",
       " Observation(('11',)),\n",
       " Observation(('01', '01')),\n",
       " Observation(('01', '10')),\n",
       " Observation(('10', '10')),\n",
       " Observation(('01', '00')),\n",
       " Observation(('01', '11')),\n",
       " Observation(('01', '00')),\n",
       " Observation(('01', '11')),\n",
       " Observation(('00', '10')),\n",
       " Observation(('10', '11')),\n",
       " Observation(('00', '10')),\n",
       " Observation(('10', '11')),\n",
       " Observation(('00', '00')),\n",
       " Observation(('00', '11')),\n",
       " Observation(('11', '11')),\n",
       " Observation(('01', '01', '00')),\n",
       " Observation(('01', '01', '11')),\n",
       " Observation(('01', '00', '10')),\n",
       " Observation(('01', '10', '11')),\n",
       " Observation(('00', '10', '10')),\n",
       " Observation(('10', '10', '11')),\n",
       " Observation(('01', '00', '00')),\n",
       " Observation(('01', '00', '11')),\n",
       " Observation(('01', '11', '11')),\n",
       " Observation(('00', '00', '10')),\n",
       " Observation(('00', '10', '11')),\n",
       " Observation(('10', '11', '11')),\n",
       " Observation(('01', '01', '00', '00')),\n",
       " Observation(('01', '01', '00', '11')),\n",
       " Observation(('01', '01', '11', '11')),\n",
       " Observation(('01', '00', '00', '10')),\n",
       " Observation(('01', '00', '10', '11')),\n",
       " Observation(('01', '10', '11', '11')),\n",
       " Observation(('00', '00', '10', '10')),\n",
       " Observation(('00', '10', '10', '11')),\n",
       " Observation(('10', '10', '11', '11'))]"
      ]
     },
     "execution_count": 4,
     "metadata": {},
     "output_type": "execute_result"
    }
   ],
   "source": [
    "obs2 = create_all_observations(res)\n",
    "obs2"
   ]
  },
  {
   "cell_type": "code",
   "execution_count": 5,
   "id": "large-christian",
   "metadata": {
    "scrolled": false
   },
   "outputs": [
    {
     "name": "stdout",
     "output_type": "stream",
     "text": [
      "** Testing Environment **\n",
      "True state: State(('0',)), 1\n",
      "Action: Action(1)\n",
      "Observation: Observation(['10']),  1\n",
      "Reward: -1.0\n",
      "Reward (Cumulative): -1.0\n",
      "True state: State(('10', '1')), 2\n",
      "Action: Action(1)\n",
      "Observation: Observation(['10', '11']),  2\n",
      "Reward: 1.0\n",
      "Reward (Cumulative): 0.0\n",
      "True state: State(('10', '11', '0')), 3\n",
      "Action: Action(0)\n",
      "Observation: Observation(['01', '10', '11']),  3\n",
      "Reward: 1.0\n",
      "Reward (Cumulative): 1.0\n",
      "True state: State(('00', '10', '11', '1')), 4\n",
      "Action: Action(1)\n",
      "Observation: Observation(['01', '10', '11', '11']),  4\n",
      "Reward: 1.0\n",
      "Reward (Cumulative): 2.0\n",
      "True state: State(('00', '10', '11', '11', '$')), 5\n",
      "Action: Action(1)\n",
      "Observation: Observation(['01', '10', '11', '11']),  4\n",
      "Reward: 1.0\n",
      "Reward (Cumulative): 3.0\n"
     ]
    }
   ],
   "source": [
    "deck = np.ones(P.n)*P.m\n",
    "s_idx = random.choice(range(P.n))\n",
    "deck[s_idx] -= 1\n",
    "init_true_state = State(tuple([str(s_idx).zfill(P.size)]), deck[:])\n",
    "#init_belief = pomdp_py.Histogram({State(\"tiger-left\"): 0.5, State(\"tiger-right\"): 0.5})\n",
    "init_belief = init_belief_particle()\n",
    "card_problem = CardProblem(init_true_state, init_belief)\n",
    "\n",
    "print(\"** Testing Environment **\")\n",
    "policy=card_problem.agent.policy_model\n",
    "T = P.m*P.n+1\n",
    "test_formulation(card_problem, policy, nsteps=T)"
   ]
  },
  {
   "cell_type": "code",
   "execution_count": null,
   "id": "digital-recording",
   "metadata": {},
   "outputs": [],
   "source": []
  },
  {
   "cell_type": "code",
   "execution_count": null,
   "id": "tight-latitude",
   "metadata": {},
   "outputs": [],
   "source": []
  },
  {
   "cell_type": "code",
   "execution_count": null,
   "id": "ranging-employer",
   "metadata": {},
   "outputs": [],
   "source": []
  }
 ],
 "metadata": {
  "kernelspec": {
   "display_name": "Python 3",
   "language": "python",
   "name": "python3"
  },
  "language_info": {
   "codemirror_mode": {
    "name": "ipython",
    "version": 3
   },
   "file_extension": ".py",
   "mimetype": "text/x-python",
   "name": "python",
   "nbconvert_exporter": "python",
   "pygments_lexer": "ipython3",
   "version": "3.7.9"
  }
 },
 "nbformat": 4,
 "nbformat_minor": 5
}
