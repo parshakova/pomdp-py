{
 "cells": [
  {
   "cell_type": "code",
   "execution_count": 1,
   "metadata": {},
   "outputs": [],
   "source": [
    "import numpy as np\n",
    "import math"
   ]
  },
  {
   "cell_type": "code",
   "execution_count": 2,
   "metadata": {
    "scrolled": true
   },
   "outputs": [
    {
     "name": "stdout",
     "output_type": "stream",
     "text": [
      "|S| = 45\n",
      "|O| = 35\n"
     ]
    }
   ],
   "source": [
    "from cardsample_problem import *"
   ]
  },
  {
   "cell_type": "code",
   "execution_count": 3,
   "metadata": {
    "scrolled": false
   },
   "outputs": [
    {
     "name": "stdout",
     "output_type": "stream",
     "text": [
      "*** Testing POMCP ***\n",
      "s0  State((1, 0, 0, 0, 0, 0), 0, None)\n",
      "==== Step 1 ====\n",
      "True state: State((1, 0, 0, 0, 0, 0), 0, None), 1 0\n",
      "Action: Action(0)\n",
      "Observation: Observation((1, 0, 0, 0)),  1\n",
      "Reward: 1.0\n",
      "True next state: State((1, 1, 1, 1, 0, 0), 1, 1), 2 0\n",
      "{Observation((1, 0, 0, 0)): VNode(9829.000, 0.000, 9828 | dict_keys([Action(0), Action(1)])), Observation((0, 1, 0, 0)): VNode(9810.000, 0.000, 9809 | dict_keys([Action(0), Action(1)]))} State((1, 1, 1, 1, 0, 0), 1, 1) Observation((1, 0, 0, 0))\n",
      "==== Step 2 ====\n",
      "True state: State((1, 1, 1, 1, 0, 0), 1, 1), 2 0\n",
      "Action: Action(1)\n",
      "Observation: Observation((1, 0, 1, 0)),  2\n",
      "Reward: 1.0\n",
      "True next state: State((2, 1, 1, 1, 1, 1), 0, 1), 3 0\n",
      "{Observation((1, 0, 0, 1)): VNode(9737.000, 0.000, 6669 | dict_keys([Action(0), Action(1)])), Observation((1, 0, 1, 0)): VNode(19427.000, 0.000, 13331 | dict_keys([Action(0), Action(1)]))} State((2, 1, 1, 1, 1, 1), 0, 1) Observation((1, 0, 1, 0))\n",
      "==== Step 3 ====\n",
      "True state: State((2, 1, 1, 1, 1, 1), 0, 1), 3 0\n",
      "Action: Action(0)\n",
      "Observation: Observation((2, 0, 1, 0)),  3\n",
      "Reward: 1.0\n",
      "True next state: State((2, 2, 2, 2, 1, 1), 1, 1), 4 0\n",
      "{Observation((2, 0, 1, 0)): VNode(17992.000, 0.000, 9821 | dict_keys([Action(0), Action(1)])), Observation((1, 1, 1, 0)): VNode(18409.000, 0.000, 10179 | dict_keys([Action(0), Action(1)]))} State((2, 2, 2, 2, 1, 1), 1, 1) Observation((2, 0, 1, 0))\n",
      "==== Step 4 ====\n",
      "True state: State((2, 2, 2, 2, 1, 1), 1, 1), 4 0\n",
      "Action: Action(1)\n",
      "Observation: Observation((2, 0, 2, 0)),  4\n",
      "Reward: 1.0\n",
      "True next state: State((2, 2, 2, 2, 2, 2), $, 1), 4 1\n",
      "{Observation((2, 0, 2, 0)): VNode(37949.000, 0.000, 20000 | dict_keys([Action(0), Action(1)]))} State((2, 2, 2, 2, 2, 2), $, 1) Observation((2, 0, 2, 0))\n",
      "==== Step 5 ====\n",
      "True state: State((2, 2, 2, 2, 2, 2), $, 1), 4 1\n",
      "Action: Action(1)\n",
      "Observation: Observation((2, 0, 2, 0)),  4\n",
      "Reward: 1.0\n",
      "True next state: State((2, 2, 2, 2, 2, 2), $, 1), 4 1\n",
      "{Observation((2, 0, 2, 0)): VNode(53876.000, 0.000, 20000 | dict_keys([Action(0), Action(1)]))} State((2, 2, 2, 2, 2, 2), $, 1) Observation((2, 0, 2, 0))\n",
      "Reward (Cumulative): 5.0\n",
      "VNode(53876.000, 0.000 | dict_keys([Action(0), Action(1)]))\n",
      "average reward  5.0 over 1 iter\n"
     ]
    }
   ],
   "source": [
    "T = P.m*P.n+1\n",
    "init_true_state= get_random_state()\n",
    "#init_belief = init_belief_particle(all_states)\n",
    "init_belief_hist = init_belief_particle_s0(all_states)\n",
    "card_problem = CardProblem(init_true_state, init_belief_hist)\n",
    "\n",
    "card_problem.agent.tree = None\n",
    "\n",
    "print(\"*** Testing POMCP ***\")\n",
    "\n",
    "pomcp = pomdp_py.POMCP(max_depth=6, discount_factor=1.,\n",
    "                           num_sims=20000, exploration_const=20,\n",
    "                           rollout_policy=card_problem.agent.policy_model,\n",
    "                           num_visits_init=1)\n",
    "\n",
    "n_iter = 1\n",
    "rewards = np.zeros(n_iter)\n",
    "\n",
    "for it in range(n_iter):\n",
    "    card_problem.agent.set_belief(init_belief_particle_s0(all_states), prior = True)\n",
    "\n",
    "    r, tree_i = test_planner(card_problem, pomcp, nsteps=T)\n",
    "    print(card_problem.agent.tree)\n",
    "\n",
    "    rewards[it] = r\n",
    "\n",
    "    card_problem.agent.tree = tree_i\n",
    "\n",
    "print(\"average reward \", rewards.mean(), \"over %d iter\"%n_iter)"
   ]
  },
  {
   "cell_type": "code",
   "execution_count": 4,
   "metadata": {},
   "outputs": [
    {
     "name": "stdout",
     "output_type": "stream",
     "text": [
      "s0  State((1, 0, 0, 0, 0, 0), 0, None)\n",
      "True state: State((1, 0, 0, 0, 0, 0), 0, None), 1 0\n",
      "Action: Action(1)\n",
      "Observation: Observation((0, 0, 0, 1)),  1\n",
      "Reward: 0.0\n",
      "True next state: State((1, 0, 0, 1, 1, 0), 1, 0), 2 0\n",
      "True state: State((1, 0, 0, 0, 0, 0), 0, None), 1 0\n",
      "Action: Action(1)\n",
      "Observation: Observation((0, 0, 1, 1)),  2\n",
      "Reward: 1.0\n",
      "True next state: State((1, 0, 0, 2, 2, 1), 1, 1), 3 0\n"
     ]
    }
   ],
   "source": [
    "planner = pomcp\n",
    "\n",
    "s0 = env_reset_s0(card_problem)\n",
    "print(\"s0 \",   s0)\n",
    "total_reward = 0\n",
    "action = planner.plan(card_problem.agent)\n",
    "#action = policy.sample(card_problem.agent.cur_belief)\n",
    "\n",
    "true_state = copy.deepcopy(card_problem.env.state)\n",
    "env_reward = card_problem.env.state_transition(action, execute=True)\n",
    "true_next_state = copy.deepcopy(card_problem.env.state)\n",
    "real_observation = card_problem.env.provide_observation(card_problem.agent.observation_model, action)\n",
    "card_problem.agent.update_history(action, real_observation)    \n",
    "    \n",
    "    \n",
    "print(\"True state: %s, %d %d\" % (true_state, np.array(true_state.val)[::3].sum(), int(true_state.terminal)))\n",
    "print(\"Action: %s\" % str(action))\n",
    "print(\"Observation: %s,  %d\" % (str(real_observation), np.array(real_observation.val).sum()))\n",
    "print(\"Reward: %s\" % str(np.maximum(0, env_reward)))\n",
    "print(\"True next state: %s, %d %d\" % (true_next_state, \n",
    "    np.array(true_next_state.val)[::3].sum(), int(true_next_state.terminal)))\n",
    "\n",
    "env_reward = card_problem.env.state_transition(action, execute=True)\n",
    "true_next_state = copy.deepcopy(card_problem.env.state)\n",
    "real_observation = card_problem.env.provide_observation(card_problem.agent.observation_model, action)\n",
    "card_problem.agent.update_history(action, real_observation)    \n",
    "    \n",
    "    \n",
    "print(\"True state: %s, %d %d\" % (true_state, np.array(true_state.val)[::3].sum(), int(true_state.terminal)))\n",
    "print(\"Action: %s\" % str(action))\n",
    "print(\"Observation: %s,  %d\" % (str(real_observation), np.array(real_observation.val).sum()))\n",
    "print(\"Reward: %s\" % str(np.maximum(0, env_reward)))\n",
    "print(\"True next state: %s, %d %d\" % (true_next_state, \n",
    "    np.array(true_next_state.val)[::3].sum(), int(true_next_state.terminal)))"
   ]
  },
  {
   "cell_type": "code",
   "execution_count": null,
   "metadata": {},
   "outputs": [],
   "source": []
  },
  {
   "cell_type": "code",
   "execution_count": 5,
   "metadata": {
    "scrolled": true
   },
   "outputs": [],
   "source": [
    "s0 = State(tuple(np.zeros(3*P.n, np.int32)), -1)\n",
    "all_states = set()\n",
    "create_all_states(s0, all_states)"
   ]
  },
  {
   "cell_type": "code",
   "execution_count": 6,
   "metadata": {},
   "outputs": [
    {
     "data": {
      "text/plain": [
       "{State((0, 0, 0, 1, 0, 0), 1, None),\n",
       " State((0, 0, 0, 2, 1, 1), 1, 1),\n",
       " State((0, 1, 0, 2, 0, 0), 1, 0),\n",
       " State((1, 0, 0, 0, 0, 0), 0, None),\n",
       " State((1, 0, 0, 1, 1, 0), 1, 0),\n",
       " State((1, 0, 0, 1, 1, 1), 0, 1),\n",
       " State((1, 0, 0, 2, 2, 1), 1, 1),\n",
       " State((1, 0, 0, 2, 2, 2), 0, 1),\n",
       " State((1, 1, 0, 1, 0, 0), 0, 0),\n",
       " State((1, 1, 0, 2, 1, 0), 1, 0),\n",
       " State((1, 1, 0, 2, 1, 1), 0, 1),\n",
       " State((1, 1, 1, 1, 0, 0), 1, 1),\n",
       " State((1, 1, 1, 2, 1, 1), 1, 1),\n",
       " State((1, 2, 0, 2, 0, 0), 0, 0),\n",
       " State((1, 2, 1, 2, 0, 0), 1, 0),\n",
       " State((2, 0, 0, 0, 1, 0), 0, 0),\n",
       " State((2, 0, 0, 1, 2, 0), 1, 0),\n",
       " State((2, 0, 0, 1, 2, 1), 0, 1),\n",
       " State((2, 0, 0, 2, 3, 1), 1, 1),\n",
       " State((2, 0, 0, 2, 3, 2), 0, 1),\n",
       " State((2, 0, 0, 2, 4, 2), $, 1),\n",
       " State((2, 1, 0, 1, 1, 0), 0, 0),\n",
       " State((2, 1, 0, 2, 2, 0), 1, 0),\n",
       " State((2, 1, 0, 2, 2, 1), 0, 1),\n",
       " State((2, 1, 0, 2, 3, 1), $, 1),\n",
       " State((2, 1, 1, 0, 0, 0), 0, 1),\n",
       " State((2, 1, 1, 1, 1, 0), 1, 0),\n",
       " State((2, 1, 1, 1, 1, 1), 0, 1),\n",
       " State((2, 1, 1, 2, 2, 1), 1, 1),\n",
       " State((2, 1, 1, 2, 2, 2), 0, 1),\n",
       " State((2, 1, 1, 2, 3, 2), $, 1),\n",
       " State((2, 2, 0, 2, 1, 0), 0, 0),\n",
       " State((2, 2, 0, 2, 2, 0), $, 0),\n",
       " State((2, 2, 1, 1, 0, 0), 0, 0),\n",
       " State((2, 2, 1, 2, 1, 0), 1, 0),\n",
       " State((2, 2, 1, 2, 1, 1), 0, 1),\n",
       " State((2, 2, 1, 2, 2, 1), $, 1),\n",
       " State((2, 2, 2, 1, 0, 0), 1, 1),\n",
       " State((2, 2, 2, 2, 1, 1), 1, 1),\n",
       " State((2, 2, 2, 2, 2, 2), $, 1),\n",
       " State((2, 3, 1, 2, 0, 0), 0, 0),\n",
       " State((2, 3, 1, 2, 1, 0), $, 0),\n",
       " State((2, 3, 2, 2, 0, 0), 1, 0),\n",
       " State((2, 3, 2, 2, 1, 1), $, 1),\n",
       " State((2, 4, 2, 2, 0, 0), $, 0)}"
      ]
     },
     "execution_count": 6,
     "metadata": {},
     "output_type": "execute_result"
    }
   ],
   "source": [
    "all_states"
   ]
  },
  {
   "cell_type": "code",
   "execution_count": 7,
   "metadata": {},
   "outputs": [
    {
     "data": {
      "text/plain": [
       "256"
      ]
     },
     "execution_count": 7,
     "metadata": {},
     "output_type": "execute_result"
    }
   ],
   "source": [
    "(P.n*2)**(P.n*P.m)"
   ]
  },
  {
   "cell_type": "code",
   "execution_count": 8,
   "metadata": {},
   "outputs": [
    {
     "data": {
      "text/plain": [
       "45"
      ]
     },
     "execution_count": 8,
     "metadata": {},
     "output_type": "execute_result"
    }
   ],
   "source": [
    "len(all_states)"
   ]
  },
  {
   "cell_type": "code",
   "execution_count": 9,
   "metadata": {},
   "outputs": [],
   "source": [
    "# states for n=5;m=2 is 330438"
   ]
  },
  {
   "cell_type": "code",
   "execution_count": 10,
   "metadata": {},
   "outputs": [],
   "source": [
    "for s in all_states:\n",
    "    val = np.array(s.val)\n",
    "    if (val[::3].sum()-1 != val[1::3].sum()) and s.card != \"$\" :\n",
    "        print(s, val[::3].sum(), val[1::3].sum(),\"error in states actions\")"
   ]
  },
  {
   "cell_type": "code",
   "execution_count": 11,
   "metadata": {},
   "outputs": [],
   "source": [
    "all_obs = create_all_observations(all_states)"
   ]
  },
  {
   "cell_type": "code",
   "execution_count": 12,
   "metadata": {},
   "outputs": [
    {
     "data": {
      "text/plain": [
       "35"
      ]
     },
     "execution_count": 12,
     "metadata": {},
     "output_type": "execute_result"
    }
   ],
   "source": [
    "len(all_obs)"
   ]
  },
  {
   "cell_type": "code",
   "execution_count": 15,
   "metadata": {},
   "outputs": [],
   "source": [
    "rewards_all = np.load(\"rewards_pomcp.npy\")"
   ]
  },
  {
   "cell_type": "code",
   "execution_count": 18,
   "metadata": {},
   "outputs": [],
   "source": [
    "num = (rewards_all != 0).sum()"
   ]
  },
  {
   "cell_type": "code",
   "execution_count": 19,
   "metadata": {},
   "outputs": [
    {
     "data": {
      "text/plain": [
       "3.772727272727273"
      ]
     },
     "execution_count": 19,
     "metadata": {},
     "output_type": "execute_result"
    }
   ],
   "source": [
    "rewards_all.sum() * 1.0 / num"
   ]
  },
  {
   "cell_type": "code",
   "execution_count": 20,
   "metadata": {},
   "outputs": [
    {
     "data": {
      "text/plain": [
       "array([3., 2., 5., 3., 3., 6., 6., 4., 3., 2., 6., 2., 5., 6., 4., 3., 3.,\n",
       "       3., 5., 4., 3., 2., 0., 0., 0., 0., 0., 0., 0., 0., 0., 0., 0., 0.,\n",
       "       0., 0., 0., 0., 0., 0., 0., 0., 0., 0., 0., 0., 0., 0., 0., 0., 0.,\n",
       "       0., 0., 0., 0., 0., 0., 0., 0., 0., 0., 0., 0., 0., 0., 0., 0., 0.,\n",
       "       0., 0., 0., 0., 0., 0., 0., 0., 0., 0., 0., 0., 0., 0., 0., 0., 0.,\n",
       "       0., 0., 0., 0., 0., 0., 0., 0., 0., 0., 0., 0., 0., 0., 0., 0., 0.,\n",
       "       0., 0., 0., 0., 0., 0., 0., 0., 0., 0., 0., 0., 0., 0., 0., 0., 0.,\n",
       "       0., 0., 0., 0., 0., 0., 0., 0., 0., 0., 0., 0., 0., 0., 0., 0., 0.,\n",
       "       0., 0., 0., 0., 0., 0., 0., 0., 0., 0., 0., 0., 0., 0., 0., 0., 0.,\n",
       "       0., 0., 0., 0., 0., 0., 0., 0., 0., 0., 0., 0., 0., 0., 0., 0., 0.,\n",
       "       0., 0., 0., 0., 0., 0., 0., 0., 0., 0., 0., 0., 0., 0., 0., 0., 0.,\n",
       "       0., 0., 0., 0., 0., 0., 0., 0., 0., 0., 0., 0., 0., 0., 0., 0., 0.,\n",
       "       0., 0., 0., 0., 0., 0., 0., 0., 0., 0., 0., 0., 0., 0., 0., 0., 0.,\n",
       "       0., 0., 0., 0., 0., 0., 0., 0., 0., 0., 0., 0., 0., 0., 0., 0., 0.,\n",
       "       0., 0., 0., 0., 0., 0., 0., 0., 0., 0., 0., 0., 0., 0., 0., 0., 0.,\n",
       "       0., 0., 0., 0., 0., 0., 0., 0., 0., 0., 0., 0., 0., 0., 0., 0., 0.,\n",
       "       0., 0., 0., 0., 0., 0., 0., 0., 0., 0., 0., 0., 0., 0., 0., 0., 0.,\n",
       "       0., 0., 0., 0., 0., 0., 0., 0., 0., 0., 0., 0., 0., 0., 0., 0., 0.,\n",
       "       0., 0., 0., 0., 0., 0., 0., 0., 0., 0., 0., 0., 0., 0., 0., 0., 0.,\n",
       "       0., 0., 0., 0., 0., 0., 0., 0., 0., 0., 0., 0., 0., 0., 0., 0., 0.,\n",
       "       0., 0., 0., 0., 0., 0., 0., 0., 0., 0., 0., 0., 0., 0., 0., 0., 0.,\n",
       "       0., 0., 0., 0., 0., 0., 0., 0., 0., 0., 0., 0., 0., 0., 0., 0., 0.,\n",
       "       0., 0., 0., 0., 0., 0., 0., 0., 0., 0., 0., 0., 0., 0., 0., 0., 0.,\n",
       "       0., 0., 0., 0., 0., 0., 0., 0., 0., 0., 0., 0., 0., 0., 0., 0., 0.,\n",
       "       0., 0., 0., 0., 0., 0., 0., 0., 0., 0., 0., 0., 0., 0., 0., 0., 0.,\n",
       "       0., 0., 0., 0., 0., 0., 0., 0., 0., 0., 0., 0., 0., 0., 0., 0., 0.,\n",
       "       0., 0., 0., 0., 0., 0., 0., 0., 0., 0., 0., 0., 0., 0., 0., 0., 0.,\n",
       "       0., 0., 0., 0., 0., 0., 0., 0., 0., 0., 0., 0., 0., 0., 0., 0., 0.,\n",
       "       0., 0., 0., 0., 0., 0., 0., 0., 0., 0., 0., 0., 0., 0., 0., 0., 0.,\n",
       "       0., 0., 0., 0., 0., 0., 0., 0., 0., 0., 0., 0., 0., 0., 0., 0., 0.,\n",
       "       0., 0., 0., 0., 0., 0., 0., 0., 0., 0., 0., 0., 0., 0., 0., 0., 0.,\n",
       "       0., 0., 0., 0., 0., 0., 0., 0., 0., 0., 0., 0., 0., 0., 0., 0., 0.,\n",
       "       0., 0., 0., 0., 0., 0., 0., 0., 0., 0., 0., 0., 0., 0., 0., 0., 0.,\n",
       "       0., 0., 0., 0., 0., 0., 0., 0., 0., 0., 0., 0., 0., 0., 0., 0., 0.,\n",
       "       0., 0., 0., 0., 0., 0., 0., 0., 0., 0., 0., 0., 0., 0., 0., 0., 0.,\n",
       "       0., 0., 0., 0., 0., 0., 0., 0., 0., 0., 0., 0., 0., 0., 0., 0., 0.,\n",
       "       0., 0., 0., 0., 0., 0., 0., 0., 0., 0., 0., 0., 0., 0., 0., 0., 0.,\n",
       "       0., 0., 0., 0., 0., 0., 0., 0., 0., 0., 0., 0., 0., 0., 0., 0., 0.,\n",
       "       0., 0., 0., 0., 0., 0., 0., 0., 0., 0., 0., 0., 0., 0., 0., 0., 0.,\n",
       "       0., 0., 0., 0., 0., 0., 0., 0., 0., 0., 0., 0., 0., 0., 0., 0., 0.,\n",
       "       0., 0., 0., 0., 0., 0., 0., 0., 0., 0., 0., 0., 0., 0., 0., 0., 0.,\n",
       "       0., 0., 0., 0., 0., 0., 0., 0., 0., 0., 0., 0., 0., 0., 0., 0., 0.,\n",
       "       0., 0., 0., 0., 0., 0., 0., 0., 0., 0., 0., 0., 0., 0., 0., 0., 0.,\n",
       "       0., 0., 0., 0., 0., 0., 0., 0., 0., 0., 0., 0., 0., 0., 0., 0., 0.,\n",
       "       0., 0., 0., 0., 0., 0., 0., 0., 0., 0., 0., 0., 0., 0., 0., 0., 0.,\n",
       "       0., 0., 0., 0., 0., 0., 0., 0., 0., 0., 0., 0., 0., 0., 0., 0., 0.,\n",
       "       0., 0., 0., 0., 0., 0., 0., 0., 0., 0., 0., 0., 0., 0., 0., 0., 0.,\n",
       "       0., 0., 0., 0., 0., 0., 0., 0., 0., 0., 0., 0., 0., 0., 0., 0., 0.,\n",
       "       0., 0., 0., 0., 0., 0., 0., 0., 0., 0., 0., 0., 0., 0., 0., 0., 0.,\n",
       "       0., 0., 0., 0., 0., 0., 0., 0., 0., 0., 0., 0., 0., 0., 0., 0., 0.,\n",
       "       0., 0., 0., 0., 0., 0., 0., 0., 0., 0., 0., 0., 0., 0., 0., 0., 0.,\n",
       "       0., 0., 0., 0., 0., 0., 0., 0., 0., 0., 0., 0., 0., 0., 0., 0., 0.,\n",
       "       0., 0., 0., 0., 0., 0., 0., 0., 0., 0., 0., 0., 0., 0., 0., 0., 0.,\n",
       "       0., 0., 0., 0., 0., 0., 0., 0., 0., 0., 0., 0., 0., 0., 0., 0., 0.,\n",
       "       0., 0., 0., 0., 0., 0., 0., 0., 0., 0., 0., 0., 0., 0., 0., 0., 0.,\n",
       "       0., 0., 0., 0., 0., 0., 0., 0., 0., 0., 0., 0., 0., 0., 0., 0., 0.,\n",
       "       0., 0., 0., 0., 0., 0., 0., 0., 0., 0., 0., 0., 0., 0., 0., 0., 0.,\n",
       "       0., 0., 0., 0., 0., 0., 0., 0., 0., 0., 0., 0., 0., 0., 0., 0., 0.,\n",
       "       0., 0., 0., 0., 0., 0., 0., 0., 0., 0., 0., 0., 0., 0.])"
      ]
     },
     "execution_count": 20,
     "metadata": {},
     "output_type": "execute_result"
    }
   ],
   "source": [
    "rewards_all"
   ]
  },
  {
   "cell_type": "code",
   "execution_count": null,
   "metadata": {},
   "outputs": [],
   "source": []
  },
  {
   "cell_type": "code",
   "execution_count": 13,
   "metadata": {},
   "outputs": [
    {
     "ename": "ModuleNotFoundError",
     "evalue": "No module named 'julia'",
     "output_type": "error",
     "traceback": [
      "\u001b[0;31m--------\u001b[0m",
      "\u001b[0;31mModuleNotFoundError\u001b[0mTraceback (most recent call last)",
      "\u001b[0;32m<ipython-input-13-81d26e1c0b8d>\u001b[0m in \u001b[0;36m<module>\u001b[0;34m\u001b[0m\n\u001b[0;32m----> 1\u001b[0;31m \u001b[0;32mfrom\u001b[0m \u001b[0mjulia\u001b[0m\u001b[0;34m.\u001b[0m\u001b[0mapi\u001b[0m \u001b[0;32mimport\u001b[0m \u001b[0mJulia\u001b[0m\u001b[0;34m\u001b[0m\u001b[0;34m\u001b[0m\u001b[0m\n\u001b[0m\u001b[1;32m      2\u001b[0m \u001b[0mjl\u001b[0m \u001b[0;34m=\u001b[0m \u001b[0mJulia\u001b[0m\u001b[0;34m(\u001b[0m\u001b[0mcompiled_modules\u001b[0m\u001b[0;34m=\u001b[0m\u001b[0;32mFalse\u001b[0m\u001b[0;34m)\u001b[0m\u001b[0;34m\u001b[0m\u001b[0;34m\u001b[0m\u001b[0m\n\u001b[1;32m      3\u001b[0m \u001b[0;34m\u001b[0m\u001b[0m\n\u001b[1;32m      4\u001b[0m \u001b[0;32mfrom\u001b[0m \u001b[0mjulia\u001b[0m\u001b[0;34m.\u001b[0m\u001b[0mQMDP\u001b[0m \u001b[0;32mimport\u001b[0m \u001b[0mQMDPSolver\u001b[0m\u001b[0;34m\u001b[0m\u001b[0;34m\u001b[0m\u001b[0m\n\u001b[1;32m      5\u001b[0m \u001b[0;32mfrom\u001b[0m \u001b[0mjulia\u001b[0m\u001b[0;34m.\u001b[0m\u001b[0mSARSOP\u001b[0m \u001b[0;32mimport\u001b[0m \u001b[0mSARSOPSolver\u001b[0m\u001b[0;34m\u001b[0m\u001b[0;34m\u001b[0m\u001b[0m\n",
      "\u001b[0;31mModuleNotFoundError\u001b[0m: No module named 'julia'"
     ]
    }
   ],
   "source": [
    "from julia.api import Julia\n",
    "jl = Julia(compiled_modules=False)\n",
    "\n",
    "from julia.QMDP import QMDPSolver\n",
    "from julia.SARSOP import SARSOPSolver"
   ]
  },
  {
   "cell_type": "code",
   "execution_count": null,
   "metadata": {},
   "outputs": [],
   "source": []
  }
 ],
 "metadata": {
  "kernelspec": {
   "display_name": "Python 3",
   "language": "python",
   "name": "python3"
  },
  "language_info": {
   "codemirror_mode": {
    "name": "ipython",
    "version": 3
   },
   "file_extension": ".py",
   "mimetype": "text/x-python",
   "name": "python",
   "nbconvert_exporter": "python",
   "pygments_lexer": "ipython3",
   "version": "3.6.9"
  }
 },
 "nbformat": 4,
 "nbformat_minor": 5
}
