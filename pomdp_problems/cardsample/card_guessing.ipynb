{
 "cells": [
  {
   "cell_type": "code",
   "execution_count": 1,
   "metadata": {},
   "outputs": [],
   "source": [
    "import numpy as np\n",
    "import math"
   ]
  },
  {
   "cell_type": "code",
   "execution_count": 2,
   "metadata": {
    "scrolled": true
   },
   "outputs": [
    {
     "name": "stdout",
     "output_type": "stream",
     "text": [
      "|S| = 909\n",
      "|O| = 539\n"
     ]
    }
   ],
   "source": [
    "from cardsample_problem import *"
   ]
  },
  {
   "cell_type": "code",
   "execution_count": 3,
   "metadata": {
    "scrolled": false
   },
   "outputs": [
    {
     "name": "stdout",
     "output_type": "stream",
     "text": [
      "*** Testing POMCP ***\n",
      "s0  State((0, 0, 0, 1, 0, 0, 0, 0, 0), 1, None)\n",
      "==== Step 1 ====\n",
      "True state: State((0, 0, 0, 1, 0, 0, 0, 0, 0), 1, None), 1 0\n",
      "Action: Action(0)\n",
      "Observation: Observation((0, 1, 0, 0, 0, 0)),  1\n",
      "Reward: 0.0\n",
      "True next state: State((1, 1, 0, 1, 0, 0, 0, 0, 0), 0, 0), 2 0\n",
      "{Observation((1, 0, 0, 0, 0, 0)): VNode(2346.000, 0.000, 2345 | dict_keys([Action(0), Action(1), Action(2)])), Observation((0, 1, 0, 0, 0, 0)): VNode(4709.000, 0.000, 4708 | dict_keys([Action(0), Action(1), Action(2)]))} State((1, 1, 0, 1, 0, 0, 0, 0, 0), 0, 0) Observation((0, 1, 0, 0, 0, 0))\n",
      "==== Step 2 ====\n",
      "True state: State((1, 1, 0, 1, 0, 0, 0, 0, 0), 0, 0), 2 0\n",
      "Action: Action(0)\n",
      "Observation: Observation((1, 1, 0, 0, 0, 0)),  2\n",
      "Reward: 1.0\n",
      "True next state: State((1, 2, 1, 2, 0, 0, 0, 0, 0), 1, 1), 3 0\n",
      "{Observation((0, 2, 0, 0, 0, 0)): VNode(11595.000, 0.000, 10418 | dict_keys([Action(0), Action(1), Action(2)])), Observation((1, 1, 0, 0, 0, 0)): VNode(8086.000, 0.000, 7272 | dict_keys([Action(0), Action(1), Action(2)]))} State((1, 2, 1, 2, 0, 0, 0, 0, 0), 1, 1) Observation((1, 1, 0, 0, 0, 0))\n",
      "==== Step 3 ====\n",
      "True state: State((1, 2, 1, 2, 0, 0, 0, 0, 0), 1, 1), 3 0\n",
      "Action: Action(0)\n",
      "Observation: Observation((1, 2, 0, 0, 0, 0)),  3\n",
      "Reward: 0.0\n",
      "True next state: State((2, 3, 1, 2, 0, 0, 0, 0, 0), 0, 0), 4 0\n",
      "{Observation((2, 1, 0, 0, 0, 0)): VNode(5546.000, 0.000, 4949 | dict_keys([Action(0), Action(1), Action(2)])), Observation((1, 2, 0, 0, 0, 0)): VNode(16541.000, 0.000, 14864 | dict_keys([Action(0), Action(1), Action(2)]))} State((2, 3, 1, 2, 0, 0, 0, 0, 0), 0, 0) Observation((1, 2, 0, 0, 0, 0))\n",
      "==== Step 4 ====\n",
      "True state: State((2, 3, 1, 2, 0, 0, 0, 0, 0), 0, 0), 4 0\n",
      "Action: Action(0)\n",
      "Observation: Observation((2, 2, 0, 0, 0, 0)),  4\n",
      "Reward: 1.0\n",
      "True next state: State((2, 4, 2, 2, 0, 0, 1, 0, 0), 2, 1), 5 0\n",
      "{Observation((1, 3, 0, 0, 0, 0)): VNode(23322.000, 0.000, 13129 | dict_keys([Action(0), Action(1), Action(2)])), Observation((2, 2, 0, 0, 0, 0)): VNode(12185.000, 0.000, 6871 | dict_keys([Action(0), Action(1), Action(2)]))} State((2, 4, 2, 2, 0, 0, 1, 0, 0), 2, 1) Observation((2, 2, 0, 0, 0, 0))\n",
      "==== Step 5 ====\n",
      "True state: State((2, 4, 2, 2, 0, 0, 1, 0, 0), 2, 1), 5 0\n",
      "Action: Action(1)\n",
      "Observation: Observation((2, 2, 0, 1, 0, 0)),  5\n",
      "Reward: 0.0\n",
      "True next state: State((2, 4, 2, 2, 1, 0, 2, 0, 0), 2, 0), 6 0\n",
      "{Observation((2, 2, 0, 1, 0, 0)): VNode(14886.000, 0.000, 10142 | dict_keys([Action(0), Action(1), Action(2)])), Observation((2, 2, 1, 0, 0, 0)): VNode(14568.000, 0.000, 9858 | dict_keys([Action(0), Action(1), Action(2)]))} State((2, 4, 2, 2, 1, 0, 2, 0, 0), 2, 0) Observation((2, 2, 0, 1, 0, 0))\n",
      "==== Step 6 ====\n"
     ]
    },
    {
     "ename": "KeyboardInterrupt",
     "evalue": "",
     "output_type": "error",
     "traceback": [
      "\u001b[0;31m--------\u001b[0m",
      "\u001b[0;31mKeyboardInterrupt\u001b[0mTraceback (most recent call last)",
      "\u001b[0;32m<ipython-input-3-04781cb9b98d>\u001b[0m in \u001b[0;36m<module>\u001b[0;34m\u001b[0m\n\u001b[1;32m     20\u001b[0m     \u001b[0mcard_problem\u001b[0m\u001b[0;34m.\u001b[0m\u001b[0magent\u001b[0m\u001b[0;34m.\u001b[0m\u001b[0mset_belief\u001b[0m\u001b[0;34m(\u001b[0m\u001b[0minit_belief_particle_s0\u001b[0m\u001b[0;34m(\u001b[0m\u001b[0mall_states\u001b[0m\u001b[0;34m)\u001b[0m\u001b[0;34m,\u001b[0m \u001b[0mprior\u001b[0m \u001b[0;34m=\u001b[0m \u001b[0;32mTrue\u001b[0m\u001b[0;34m)\u001b[0m\u001b[0;34m\u001b[0m\u001b[0;34m\u001b[0m\u001b[0m\n\u001b[1;32m     21\u001b[0m \u001b[0;34m\u001b[0m\u001b[0m\n\u001b[0;32m---> 22\u001b[0;31m     \u001b[0mr\u001b[0m\u001b[0;34m,\u001b[0m \u001b[0mtree_i\u001b[0m \u001b[0;34m=\u001b[0m \u001b[0mtest_planner\u001b[0m\u001b[0;34m(\u001b[0m\u001b[0mcard_problem\u001b[0m\u001b[0;34m,\u001b[0m \u001b[0mpomcp\u001b[0m\u001b[0;34m,\u001b[0m \u001b[0mnsteps\u001b[0m\u001b[0;34m=\u001b[0m\u001b[0mT\u001b[0m\u001b[0;34m)\u001b[0m\u001b[0;34m\u001b[0m\u001b[0;34m\u001b[0m\u001b[0m\n\u001b[0m\u001b[1;32m     23\u001b[0m     \u001b[0mprint\u001b[0m\u001b[0;34m(\u001b[0m\u001b[0mcard_problem\u001b[0m\u001b[0;34m.\u001b[0m\u001b[0magent\u001b[0m\u001b[0;34m.\u001b[0m\u001b[0mtree\u001b[0m\u001b[0;34m)\u001b[0m\u001b[0;34m\u001b[0m\u001b[0;34m\u001b[0m\u001b[0m\n\u001b[1;32m     24\u001b[0m \u001b[0;34m\u001b[0m\u001b[0m\n",
      "\u001b[0;32m~/Music/21winter/approx_algo/pomdp-py/pomdp_problems/cardsample/cardsample_problem.py\u001b[0m in \u001b[0;36mtest_planner\u001b[0;34m(card_problem, planner, nsteps)\u001b[0m\n\u001b[1;32m    428\u001b[0m     \u001b[0;32mfor\u001b[0m \u001b[0mi\u001b[0m \u001b[0;32min\u001b[0m \u001b[0mrange\u001b[0m\u001b[0;34m(\u001b[0m\u001b[0mnsteps\u001b[0m\u001b[0;34m)\u001b[0m\u001b[0;34m:\u001b[0m\u001b[0;34m\u001b[0m\u001b[0;34m\u001b[0m\u001b[0m\n\u001b[1;32m    429\u001b[0m         \u001b[0mprint\u001b[0m\u001b[0;34m(\u001b[0m\u001b[0;34m\"==== Step %d ====\"\u001b[0m \u001b[0;34m%\u001b[0m \u001b[0;34m(\u001b[0m\u001b[0mi\u001b[0m\u001b[0;34m+\u001b[0m\u001b[0;36m1\u001b[0m\u001b[0;34m)\u001b[0m\u001b[0;34m)\u001b[0m\u001b[0;34m\u001b[0m\u001b[0;34m\u001b[0m\u001b[0m\n\u001b[0;32m--> 430\u001b[0;31m         \u001b[0maction\u001b[0m \u001b[0;34m=\u001b[0m \u001b[0mplanner\u001b[0m\u001b[0;34m.\u001b[0m\u001b[0mplan\u001b[0m\u001b[0;34m(\u001b[0m\u001b[0mcard_problem\u001b[0m\u001b[0;34m.\u001b[0m\u001b[0magent\u001b[0m\u001b[0;34m)\u001b[0m\u001b[0;34m\u001b[0m\u001b[0;34m\u001b[0m\u001b[0m\n\u001b[0m\u001b[1;32m    431\u001b[0m         \u001b[0;31m#action = policy.sample(card_problem.agent.cur_belief)\u001b[0m\u001b[0;34m\u001b[0m\u001b[0;34m\u001b[0m\u001b[0;34m\u001b[0m\u001b[0m\n\u001b[1;32m    432\u001b[0m \u001b[0;34m\u001b[0m\u001b[0m\n",
      "\u001b[0;32m~/Music/21winter/approx_algo/pomdp-py/pomdp_py/algorithms/pomcp.pyx\u001b[0m in \u001b[0;36mpomdp_py.algorithms.pomcp.POMCP.plan\u001b[0;34m()\u001b[0m\n",
      "\u001b[0;32m~/Music/21winter/approx_algo/pomdp-py/pomdp_py/algorithms/po_uct.pyx\u001b[0m in \u001b[0;36mpomdp_py.algorithms.po_uct.POUCT.plan\u001b[0;34m()\u001b[0m\n",
      "\u001b[0;32m~/Music/21winter/approx_algo/pomdp-py/pomdp_py/algorithms/po_uct.pyx\u001b[0m in \u001b[0;36mpomdp_py.algorithms.po_uct.POUCT._search\u001b[0;34m()\u001b[0m\n",
      "\u001b[0;32m~/Music/21winter/approx_algo/pomdp-py/pomdp_py/algorithms/pomcp.pyx\u001b[0m in \u001b[0;36mpomdp_py.algorithms.pomcp.POMCP._simulate\u001b[0;34m()\u001b[0m\n",
      "\u001b[0;32m~/Music/21winter/approx_algo/pomdp-py/pomdp_py/algorithms/po_uct.pyx\u001b[0m in \u001b[0;36mpomdp_py.algorithms.po_uct.POUCT._simulate\u001b[0;34m()\u001b[0m\n",
      "\u001b[0;32m~/Music/21winter/approx_algo/pomdp-py/pomdp_py/algorithms/pomcp.pyx\u001b[0m in \u001b[0;36mpomdp_py.algorithms.pomcp.POMCP._simulate\u001b[0;34m()\u001b[0m\n",
      "\u001b[0;32m~/Music/21winter/approx_algo/pomdp-py/pomdp_py/algorithms/po_uct.pyx\u001b[0m in \u001b[0;36mpomdp_py.algorithms.po_uct.POUCT._simulate\u001b[0;34m()\u001b[0m\n",
      "\u001b[0;32m~/Music/21winter/approx_algo/pomdp-py/pomdp_py/algorithms/pomcp.pyx\u001b[0m in \u001b[0;36mpomdp_py.algorithms.pomcp.POMCP._simulate\u001b[0;34m()\u001b[0m\n",
      "\u001b[0;32m~/Music/21winter/approx_algo/pomdp-py/pomdp_py/algorithms/po_uct.pyx\u001b[0m in \u001b[0;36mpomdp_py.algorithms.po_uct.POUCT._simulate\u001b[0;34m()\u001b[0m\n",
      "\u001b[0;32m~/Music/21winter/approx_algo/pomdp-py/pomdp_py/algorithms/pomcp.pyx\u001b[0m in \u001b[0;36mpomdp_py.algorithms.pomcp.POMCP._simulate\u001b[0;34m()\u001b[0m\n",
      "\u001b[0;32m~/Music/21winter/approx_algo/pomdp-py/pomdp_py/algorithms/po_uct.pyx\u001b[0m in \u001b[0;36mpomdp_py.algorithms.po_uct.POUCT._simulate\u001b[0;34m()\u001b[0m\n",
      "\u001b[0;32m~/Music/21winter/approx_algo/pomdp-py/pomdp_py/algorithms/pomcp.pyx\u001b[0m in \u001b[0;36mpomdp_py.algorithms.pomcp.POMCP._simulate\u001b[0;34m()\u001b[0m\n",
      "\u001b[0;32m~/Music/21winter/approx_algo/pomdp-py/pomdp_py/algorithms/po_uct.pyx\u001b[0m in \u001b[0;36mpomdp_py.algorithms.po_uct.POUCT._simulate\u001b[0;34m()\u001b[0m\n",
      "\u001b[0;32m~/Music/21winter/approx_algo/pomdp-py/pomdp_py/framework/basics.pyx\u001b[0m in \u001b[0;36mpomdp_py.framework.basics.sample_generative_model\u001b[0;34m()\u001b[0m\n",
      "\u001b[0;32m~/Music/21winter/approx_algo/pomdp-py/pomdp_py/framework/basics.pyx\u001b[0m in \u001b[0;36mpomdp_py.framework.basics.sample_explict_models\u001b[0;34m()\u001b[0m\n",
      "\u001b[0;32m~/Music/21winter/approx_algo/pomdp-py/pomdp_problems/cardsample/cardsample_problem.py\u001b[0m in \u001b[0;36msample\u001b[0;34m(self, state, action)\u001b[0m\n\u001b[1;32m    298\u001b[0m             \u001b[0;32mreturn\u001b[0m \u001b[0;36m1.0\u001b[0m\u001b[0;34m\u001b[0m\u001b[0;34m\u001b[0m\u001b[0m\n\u001b[1;32m    299\u001b[0m \u001b[0;34m\u001b[0m\u001b[0m\n\u001b[0;32m--> 300\u001b[0;31m     \u001b[0;32mdef\u001b[0m \u001b[0msample\u001b[0m\u001b[0;34m(\u001b[0m\u001b[0mself\u001b[0m\u001b[0;34m,\u001b[0m \u001b[0mstate\u001b[0m\u001b[0;34m,\u001b[0m \u001b[0maction\u001b[0m\u001b[0;34m)\u001b[0m\u001b[0;34m:\u001b[0m\u001b[0;34m\u001b[0m\u001b[0;34m\u001b[0m\u001b[0m\n\u001b[0m\u001b[1;32m    301\u001b[0m         \u001b[0;31m# s' ~ Pr( s' | s, a )\u001b[0m\u001b[0;34m\u001b[0m\u001b[0;34m\u001b[0m\u001b[0;34m\u001b[0m\u001b[0m\n\u001b[1;32m    302\u001b[0m         \u001b[0;31m# s = [ (# t's: c_t=1, # t's: a_t=1, # t's: a_t=1=c_T), ..., (# t's: c_t=n, # t's: a_t=n, # t's: a_t=n=c_T)]\u001b[0m\u001b[0;34m\u001b[0m\u001b[0;34m\u001b[0m\u001b[0;34m\u001b[0m\u001b[0m\n",
      "\u001b[0;31mKeyboardInterrupt\u001b[0m: "
     ]
    }
   ],
   "source": [
    "T = P.m*P.n+1\n",
    "init_true_state= get_random_state()\n",
    "#init_belief = init_belief_particle(all_states)\n",
    "init_belief_hist = init_belief_particle_s0(all_states)\n",
    "card_problem = CardProblem(init_true_state, init_belief_hist)\n",
    "\n",
    "card_problem.agent.tree = None\n",
    "\n",
    "print(\"*** Testing POMCP ***\")\n",
    "\n",
    "pomcp = pomdp_py.POMCP(max_depth=6, discount_factor=1.,\n",
    "                           num_sims=20000, exploration_const=20,\n",
    "                           rollout_policy=card_problem.agent.policy_model,\n",
    "                           num_visits_init=1)\n",
    "\n",
    "n_iter = 1\n",
    "rewards = np.zeros(n_iter)\n",
    "\n",
    "for it in range(n_iter):\n",
    "    card_problem.agent.set_belief(init_belief_particle_s0(all_states), prior = True)\n",
    "\n",
    "    r, tree_i = test_planner(card_problem, pomcp, nsteps=T)\n",
    "    print(card_problem.agent.tree)\n",
    "\n",
    "    rewards[it] = r\n",
    "\n",
    "    card_problem.agent.tree = tree_i\n",
    "\n",
    "print(\"average reward \", rewards.mean(), \"over %d iter\"%n_iter)"
   ]
  },
  {
   "cell_type": "code",
   "execution_count": null,
   "metadata": {},
   "outputs": [],
   "source": [
    "planner = pomcp\n",
    "\n",
    "s0 = env_reset_s0(card_problem)\n",
    "print(\"s0 \",   s0)\n",
    "total_reward = 0\n",
    "action = planner.plan(card_problem.agent)\n",
    "#action = policy.sample(card_problem.agent.cur_belief)\n",
    "\n",
    "true_state = copy.deepcopy(card_problem.env.state)\n",
    "env_reward = card_problem.env.state_transition(action, execute=True)\n",
    "true_next_state = copy.deepcopy(card_problem.env.state)\n",
    "real_observation = card_problem.env.provide_observation(card_problem.agent.observation_model, action)\n",
    "card_problem.agent.update_history(action, real_observation)    \n",
    "    \n",
    "    \n",
    "print(\"True state: %s, %d %d\" % (true_state, np.array(true_state.val)[::3].sum(), int(true_state.terminal)))\n",
    "print(\"Action: %s\" % str(action))\n",
    "print(\"Observation: %s,  %d\" % (str(real_observation), np.array(real_observation.val).sum()))\n",
    "print(\"Reward: %s\" % str(np.maximum(0, env_reward)))\n",
    "print(\"True next state: %s, %d %d\" % (true_next_state, \n",
    "    np.array(true_next_state.val)[::3].sum(), int(true_next_state.terminal)))\n",
    "\n",
    "env_reward = card_problem.env.state_transition(action, execute=True)\n",
    "true_next_state = copy.deepcopy(card_problem.env.state)\n",
    "real_observation = card_problem.env.provide_observation(card_problem.agent.observation_model, action)\n",
    "card_problem.agent.update_history(action, real_observation)    \n",
    "    \n",
    "    \n",
    "print(\"True state: %s, %d %d\" % (true_state, np.array(true_state.val)[::3].sum(), int(true_state.terminal)))\n",
    "print(\"Action: %s\" % str(action))\n",
    "print(\"Observation: %s,  %d\" % (str(real_observation), np.array(real_observation.val).sum()))\n",
    "print(\"Reward: %s\" % str(np.maximum(0, env_reward)))\n",
    "print(\"True next state: %s, %d %d\" % (true_next_state, \n",
    "    np.array(true_next_state.val)[::3].sum(), int(true_next_state.terminal)))"
   ]
  },
  {
   "cell_type": "code",
   "execution_count": null,
   "metadata": {},
   "outputs": [],
   "source": []
  },
  {
   "cell_type": "code",
   "execution_count": null,
   "metadata": {
    "scrolled": true
   },
   "outputs": [],
   "source": [
    "s0 = State(tuple(np.zeros(3*P.n, np.int32)), -1)\n",
    "all_states = set()\n",
    "create_all_states(s0, all_states)"
   ]
  },
  {
   "cell_type": "code",
   "execution_count": null,
   "metadata": {},
   "outputs": [],
   "source": [
    "all_states"
   ]
  },
  {
   "cell_type": "code",
   "execution_count": null,
   "metadata": {},
   "outputs": [],
   "source": [
    "(P.n*2)**(P.n*P.m)"
   ]
  },
  {
   "cell_type": "code",
   "execution_count": null,
   "metadata": {},
   "outputs": [],
   "source": [
    "len(all_states)"
   ]
  },
  {
   "cell_type": "code",
   "execution_count": null,
   "metadata": {},
   "outputs": [],
   "source": [
    "# states for n=5;m=2 is 330438"
   ]
  },
  {
   "cell_type": "code",
   "execution_count": null,
   "metadata": {},
   "outputs": [],
   "source": [
    "for s in all_states:\n",
    "    val = np.array(s.val)\n",
    "    if (val[::3].sum()-1 != val[1::3].sum()) and s.card != \"$\" :\n",
    "        print(s, val[::3].sum(), val[1::3].sum(),\"error in states actions\")"
   ]
  },
  {
   "cell_type": "code",
   "execution_count": null,
   "metadata": {},
   "outputs": [],
   "source": [
    "all_obs = create_all_observations(all_states)"
   ]
  },
  {
   "cell_type": "code",
   "execution_count": null,
   "metadata": {},
   "outputs": [],
   "source": [
    "len(all_obs)"
   ]
  },
  {
   "cell_type": "code",
   "execution_count": 12,
   "metadata": {},
   "outputs": [],
   "source": [
    "rewards_all = np.load(\"rewards_pomcp_term.npy\")"
   ]
  },
  {
   "cell_type": "code",
   "execution_count": 13,
   "metadata": {},
   "outputs": [
    {
     "name": "stdout",
     "output_type": "stream",
     "text": [
      "49\n"
     ]
    }
   ],
   "source": [
    "num = (rewards_all != 0).sum()\n",
    "print(num)"
   ]
  },
  {
   "cell_type": "code",
   "execution_count": 14,
   "metadata": {},
   "outputs": [
    {
     "data": {
      "text/plain": [
       "2.4489795918367347"
      ]
     },
     "execution_count": 14,
     "metadata": {},
     "output_type": "execute_result"
    }
   ],
   "source": [
    "rewards_all.sum() * 1.0 / num"
   ]
  },
  {
   "cell_type": "code",
   "execution_count": 15,
   "metadata": {},
   "outputs": [
    {
     "data": {
      "text/plain": [
       "array([1., 2., 2., 3., 3., 3., 4., 3., 2., 4., 3., 3., 1., 1., 1., 2., 3.,\n",
       "       4., 3., 2., 2., 2., 3., 1., 1., 3., 3., 2., 2., 2., 3., 4., 3., 2.,\n",
       "       2., 2., 1., 5., 2., 5., 2., 2., 1., 3., 4., 3., 1., 2., 2., 0., 0.,\n",
       "       0., 0., 0., 0., 0., 0., 0., 0., 0., 0., 0., 0., 0., 0., 0., 0., 0.,\n",
       "       0., 0., 0., 0., 0., 0., 0., 0., 0., 0., 0., 0., 0., 0., 0., 0., 0.,\n",
       "       0., 0., 0., 0., 0., 0., 0., 0., 0., 0., 0., 0., 0., 0., 0., 0., 0.,\n",
       "       0., 0., 0., 0., 0., 0., 0., 0., 0., 0., 0., 0., 0., 0., 0., 0., 0.,\n",
       "       0., 0., 0., 0., 0., 0., 0., 0., 0., 0., 0., 0., 0., 0., 0., 0., 0.,\n",
       "       0., 0., 0., 0., 0., 0., 0., 0., 0., 0., 0., 0., 0., 0., 0., 0., 0.,\n",
       "       0., 0., 0., 0., 0., 0., 0., 0., 0., 0., 0., 0., 0., 0., 0., 0., 0.,\n",
       "       0., 0., 0., 0., 0., 0., 0., 0., 0., 0., 0., 0., 0., 0., 0., 0., 0.,\n",
       "       0., 0., 0., 0., 0., 0., 0., 0., 0., 0., 0., 0., 0., 0., 0., 0., 0.,\n",
       "       0., 0., 0., 0., 0., 0., 0., 0., 0., 0., 0., 0., 0., 0., 0., 0., 0.,\n",
       "       0., 0., 0., 0., 0., 0., 0., 0., 0., 0., 0., 0., 0., 0., 0., 0., 0.,\n",
       "       0., 0., 0., 0., 0., 0., 0., 0., 0., 0., 0., 0., 0., 0., 0., 0., 0.,\n",
       "       0., 0., 0., 0., 0., 0., 0., 0., 0., 0., 0., 0., 0., 0., 0., 0., 0.,\n",
       "       0., 0., 0., 0., 0., 0., 0., 0., 0., 0., 0., 0., 0., 0., 0., 0., 0.,\n",
       "       0., 0., 0., 0., 0., 0., 0., 0., 0., 0., 0., 0., 0., 0., 0., 0., 0.,\n",
       "       0., 0., 0., 0., 0., 0., 0., 0., 0., 0., 0., 0., 0., 0., 0., 0., 0.,\n",
       "       0., 0., 0., 0., 0., 0., 0., 0., 0., 0., 0., 0., 0., 0., 0., 0., 0.,\n",
       "       0., 0., 0., 0., 0., 0., 0., 0., 0., 0., 0., 0., 0., 0., 0., 0., 0.,\n",
       "       0., 0., 0., 0., 0., 0., 0., 0., 0., 0., 0., 0., 0., 0., 0., 0., 0.,\n",
       "       0., 0., 0., 0., 0., 0., 0., 0., 0., 0., 0., 0., 0., 0., 0., 0., 0.,\n",
       "       0., 0., 0., 0., 0., 0., 0., 0., 0., 0., 0., 0., 0., 0., 0., 0., 0.,\n",
       "       0., 0., 0., 0., 0., 0., 0., 0., 0., 0., 0., 0., 0., 0., 0., 0., 0.,\n",
       "       0., 0., 0., 0., 0., 0., 0., 0., 0., 0., 0., 0., 0., 0., 0., 0., 0.,\n",
       "       0., 0., 0., 0., 0., 0., 0., 0., 0., 0., 0., 0., 0., 0., 0., 0., 0.,\n",
       "       0., 0., 0., 0., 0., 0., 0., 0., 0., 0., 0., 0., 0., 0., 0., 0., 0.,\n",
       "       0., 0., 0., 0., 0., 0., 0., 0., 0., 0., 0., 0., 0., 0., 0., 0., 0.,\n",
       "       0., 0., 0., 0., 0., 0., 0., 0., 0., 0., 0., 0., 0., 0., 0., 0., 0.,\n",
       "       0., 0., 0., 0., 0., 0., 0., 0., 0., 0., 0., 0., 0., 0., 0., 0., 0.,\n",
       "       0., 0., 0., 0., 0., 0., 0., 0., 0., 0., 0., 0., 0., 0., 0., 0., 0.,\n",
       "       0., 0., 0., 0., 0., 0., 0., 0., 0., 0., 0., 0., 0., 0., 0., 0., 0.,\n",
       "       0., 0., 0., 0., 0., 0., 0., 0., 0., 0., 0., 0., 0., 0., 0., 0., 0.,\n",
       "       0., 0., 0., 0., 0., 0., 0., 0., 0., 0., 0., 0., 0., 0., 0., 0., 0.,\n",
       "       0., 0., 0., 0., 0., 0., 0., 0., 0., 0., 0., 0., 0., 0., 0., 0., 0.,\n",
       "       0., 0., 0., 0., 0., 0., 0., 0., 0., 0., 0., 0., 0., 0., 0., 0., 0.,\n",
       "       0., 0., 0., 0., 0., 0., 0., 0., 0., 0., 0., 0., 0., 0., 0., 0., 0.,\n",
       "       0., 0., 0., 0., 0., 0., 0., 0., 0., 0., 0., 0., 0., 0., 0., 0., 0.,\n",
       "       0., 0., 0., 0., 0., 0., 0., 0., 0., 0., 0., 0., 0., 0., 0., 0., 0.,\n",
       "       0., 0., 0., 0., 0., 0., 0., 0., 0., 0., 0., 0., 0., 0., 0., 0., 0.,\n",
       "       0., 0., 0., 0., 0., 0., 0., 0., 0., 0., 0., 0., 0., 0., 0., 0., 0.,\n",
       "       0., 0., 0., 0., 0., 0., 0., 0., 0., 0., 0., 0., 0., 0., 0., 0., 0.,\n",
       "       0., 0., 0., 0., 0., 0., 0., 0., 0., 0., 0., 0., 0., 0., 0., 0., 0.,\n",
       "       0., 0., 0., 0., 0., 0., 0., 0., 0., 0., 0., 0., 0., 0., 0., 0., 0.,\n",
       "       0., 0., 0., 0., 0., 0., 0., 0., 0., 0., 0., 0., 0., 0., 0., 0., 0.,\n",
       "       0., 0., 0., 0., 0., 0., 0., 0., 0., 0., 0., 0., 0., 0., 0., 0., 0.,\n",
       "       0., 0., 0., 0., 0., 0., 0., 0., 0., 0., 0., 0., 0., 0., 0., 0., 0.,\n",
       "       0., 0., 0., 0., 0., 0., 0., 0., 0., 0., 0., 0., 0., 0., 0., 0., 0.,\n",
       "       0., 0., 0., 0., 0., 0., 0., 0., 0., 0., 0., 0., 0., 0., 0., 0., 0.,\n",
       "       0., 0., 0., 0., 0., 0., 0., 0., 0., 0., 0., 0., 0., 0., 0., 0., 0.,\n",
       "       0., 0., 0., 0., 0., 0., 0., 0., 0., 0., 0., 0., 0., 0., 0., 0., 0.,\n",
       "       0., 0., 0., 0., 0., 0., 0., 0., 0., 0., 0., 0., 0., 0., 0., 0., 0.,\n",
       "       0., 0., 0., 0., 0., 0., 0., 0., 0., 0., 0., 0., 0., 0., 0., 0., 0.,\n",
       "       0., 0., 0., 0., 0., 0., 0., 0., 0., 0., 0., 0., 0., 0., 0., 0., 0.,\n",
       "       0., 0., 0., 0., 0., 0., 0., 0., 0., 0., 0., 0., 0., 0., 0., 0., 0.,\n",
       "       0., 0., 0., 0., 0., 0., 0., 0., 0., 0., 0., 0., 0., 0., 0., 0., 0.,\n",
       "       0., 0., 0., 0., 0., 0., 0., 0., 0., 0., 0., 0., 0., 0., 0., 0., 0.,\n",
       "       0., 0., 0., 0., 0., 0., 0., 0., 0., 0., 0., 0., 0., 0.])"
      ]
     },
     "execution_count": 15,
     "metadata": {},
     "output_type": "execute_result"
    }
   ],
   "source": [
    "rewards_all"
   ]
  },
  {
   "cell_type": "code",
   "execution_count": null,
   "metadata": {},
   "outputs": [],
   "source": []
  },
  {
   "cell_type": "code",
   "execution_count": null,
   "metadata": {},
   "outputs": [],
   "source": [
    "from julia.api import Julia\n",
    "jl = Julia(compiled_modules=False)\n",
    "\n",
    "from julia.QMDP import QMDPSolver\n",
    "from julia.SARSOP import SARSOPSolver"
   ]
  },
  {
   "cell_type": "code",
   "execution_count": null,
   "metadata": {},
   "outputs": [],
   "source": []
  }
 ],
 "metadata": {
  "kernelspec": {
   "display_name": "Python 3",
   "language": "python",
   "name": "python3"
  },
  "language_info": {
   "codemirror_mode": {
    "name": "ipython",
    "version": 3
   },
   "file_extension": ".py",
   "mimetype": "text/x-python",
   "name": "python",
   "nbconvert_exporter": "python",
   "pygments_lexer": "ipython3",
   "version": "3.6.9"
  }
 },
 "nbformat": 4,
 "nbformat_minor": 5
}
