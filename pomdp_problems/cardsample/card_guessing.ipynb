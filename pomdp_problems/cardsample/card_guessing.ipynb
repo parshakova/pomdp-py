{
 "cells": [
  {
   "cell_type": "code",
   "execution_count": 1,
   "metadata": {},
   "outputs": [],
   "source": [
    "import numpy as np\n",
    "import math"
   ]
  },
  {
   "cell_type": "code",
   "execution_count": 2,
   "metadata": {
    "scrolled": true
   },
   "outputs": [
    {
     "name": "stdout",
     "output_type": "stream",
     "text": [
      "|S| = 45\n",
      "|O| = 35\n"
     ]
    }
   ],
   "source": [
    "from cardsample_problem import *"
   ]
  },
  {
   "cell_type": "code",
   "execution_count": null,
   "metadata": {
    "scrolled": false
   },
   "outputs": [
    {
     "name": "stdout",
     "output_type": "stream",
     "text": [
      "*** Testing POMCP ***\n",
      "s0  State((0, 0, 0, 1, 0, 0), 1, None)\n",
      "==== Step 1 ====\n",
      "True state: State((0, 0, 0, 1, 0, 0), 1, None), 1 0\n",
      "Action: Action(0)\n",
      "Observation: Observation((0, 1, 0, 0)),  1\n",
      "Reward: 0.0\n",
      "True next state: State((1, 1, 0, 1, 0, 0), 0, 0), 2 0\n",
      "VNode(20000.000, 0.365 | dict_keys([Action(0), Action(1)])) {Action(0): QNode(10187.000, 0.365 | dict_keys([Observation((1, 0, 0, 0)), Observation((0, 1, 0, 0))])), Action(1): QNode(9814.000, 0.354 | dict_keys([Observation((0, 0, 0, 1)), Observation((0, 0, 1, 0))]))} State((1, 1, 0, 1, 0, 0), 0, 0) Observation((0, 1, 0, 0))\n",
      "{Action(0): 0.3649749755859375, Action(1): 0.3538820445537567}\n",
      "==== Step 2 ====\n",
      "True state: State((1, 1, 0, 1, 0, 0), 0, 0), 2 0\n",
      "Action: Action(0)\n",
      "Observation: Observation((1, 1, 0, 0)),  2\n",
      "Reward: 1.0\n",
      "True next state: State((2, 2, 1, 1, 0, 0), 0, 1), 3 0\n",
      "VNode(25116.000, -0.190 | dict_keys([Action(0), Action(1)])) {Action(0): QNode(21557.000, -0.190 | dict_keys([Observation((0, 2, 0, 0)), Observation((1, 1, 0, 0))])), Action(1): QNode(3560.000, -0.824 | dict_keys([Observation((0, 1, 0, 1)), Observation((0, 1, 1, 0))]))} State((2, 2, 1, 1, 0, 0), 0, 1) Observation((1, 1, 0, 0))\n",
      "{Action(0): -0.190425306558609, Action(1): -0.8238768577575684}\n",
      "==== Step 3 ====\n",
      "True state: State((2, 2, 1, 1, 0, 0), 0, 1), 3 0\n",
      "Action: Action(0)\n",
      "Observation: Observation((2, 1, 0, 0)),  3\n",
      "Reward: 1.0\n",
      "True next state: State((2, 3, 2, 2, 0, 0), 1, 1), 4 0\n",
      "VNode(34480.000, -1.502 | dict_keys([Action(0), Action(1)])) {Action(0): QNode(17438.000, -1.502 | dict_keys([Observation((1, 2, 0, 0)), Observation((2, 1, 0, 0))])), Action(1): QNode(17043.000, -1.508 | dict_keys([Observation((1, 1, 0, 1)), Observation((1, 1, 1, 0))]))} State((2, 3, 2, 2, 0, 0), 1, 1) Observation((2, 1, 0, 0))\n",
      "{Action(0): -1.501835823059082, Action(1): -1.5075957775115967}\n",
      "==== Step 4 ====\n",
      "True state: State((2, 3, 2, 2, 0, 0), 1, 1), 4 0\n",
      "Action: Action(0)\n",
      "Observation: Observation((2, 2, 0, 0)),  4\n",
      "Reward: 0.0\n",
      "True next state: State((2, 4, 2, 2, 0, 0), $, 0), 4 1\n",
      "VNode(28091.000, -2.604 | dict_keys([Action(0), Action(1)])) {Action(0): QNode(14048.000, -2.604 | dict_keys([Observation((2, 2, 0, 0))])), Action(1): QNode(14044.000, -2.604 | dict_keys([Observation((2, 1, 1, 0))]))} State((2, 4, 2, 2, 0, 0), $, 0) Observation((2, 2, 0, 0))\n",
      "{Action(0): -2.604356527328491, Action(1): -2.6044561862945557}\n",
      "Reward (Cumulative): 2.0\n",
      "VNode(12541.000, 0.000 | dict_keys([Action(0), Action(1)]))\n",
      "average reward  2.0 *** iter = 1\n",
      "s0  State((1, 0, 0, 0, 0, 0), 0, None)\n",
      "==== Step 1 ====\n",
      "True state: State((1, 0, 0, 0, 0, 0), 0, None), 1 0\n",
      "Action: Action(0)\n",
      "Observation: Observation((1, 0, 0, 0)),  1\n",
      "Reward: 1.0\n",
      "True next state: State((1, 1, 1, 1, 0, 0), 1, 1), 2 0\n",
      "VNode(40000.000, 0.450 | dict_keys([Action(0), Action(1)])) {Action(0): QNode(21137.000, 0.450 | dict_keys([Observation((1, 0, 0, 0)), Observation((0, 1, 0, 0))])), Action(1): QNode(18864.000, 0.424 | dict_keys([Observation((0, 0, 0, 1)), Observation((0, 0, 1, 0))]))} State((1, 1, 1, 1, 0, 0), 1, 1) Observation((1, 0, 0, 0))\n",
      "{Action(0): 0.44992098212242126, Action(1): 0.4236108362674713}\n",
      "==== Step 2 ====\n",
      "True state: State((1, 1, 1, 1, 0, 0), 1, 1), 2 0\n",
      "Action: Action(1)\n",
      "Observation: Observation((1, 0, 1, 0)),  2\n",
      "Reward: 1.0\n",
      "True next state: State((1, 1, 1, 2, 1, 1), 1, 1), 3 0\n",
      "VNode(30521.000, -0.059 | dict_keys([Action(0), Action(1)])) {Action(0): QNode(3921.000, -0.690 | dict_keys([Observation((1, 1, 0, 0)), Observation((2, 0, 0, 0))])), Action(1): QNode(26601.000, -0.059 | dict_keys([Observation((1, 0, 0, 1)), Observation((1, 0, 1, 0))]))} State((1, 1, 1, 2, 1, 1), 1, 1) Observation((1, 0, 1, 0))\n",
      "{Action(0): -0.6903845071792603, Action(1): -0.05868155509233475}\n",
      "==== Step 3 ====\n",
      "True state: State((1, 1, 1, 2, 1, 1), 1, 1), 3 0\n",
      "Action: Action(1)\n",
      "Observation: Observation((1, 0, 2, 0)),  3\n",
      "Reward: 1.0\n",
      "True next state: State((2, 1, 1, 2, 2, 2), 0, 1), 4 0\n",
      "VNode(37843.000, -1.385 | dict_keys([Action(0), Action(1)])) {Action(0): QNode(18834.000, -1.387 | dict_keys([Observation((1, 1, 1, 0)), Observation((2, 0, 1, 0))])), Action(1): QNode(19010.000, -1.385 | dict_keys([Observation((1, 0, 2, 0)), Observation((1, 0, 1, 1))]))} State((2, 1, 1, 2, 2, 2), 0, 1) Observation((1, 0, 2, 0))\n",
      "{Action(0): -1.3870667219161987, Action(1): -1.3849520683288574}\n",
      "==== Step 4 ====\n",
      "True state: State((2, 1, 1, 2, 2, 2), 0, 1), 4 0\n",
      "Action: Action(1)\n",
      "Observation: Observation((1, 0, 2, 1)),  4\n",
      "Reward: 0.0\n",
      "True next state: State((2, 1, 1, 2, 3, 2), $, 0), 4 1\n",
      "VNode(27951.000, -2.609 | dict_keys([Action(0), Action(1)])) {Action(0): QNode(13974.000, -2.609 | dict_keys([Observation((2, 0, 2, 0))])), Action(1): QNode(13978.000, -2.609 | dict_keys([Observation((1, 0, 2, 1))]))} State((2, 1, 1, 2, 3, 2), $, 0) Observation((1, 0, 2, 1))\n",
      "{Action(0): -2.609417676925659, Action(1): -2.6093151569366455}\n",
      "Reward (Cumulative): 3.0\n",
      "VNode(12498.000, 0.000 | dict_keys([Action(0), Action(1)]))\n",
      "average reward  2.5 *** iter = 2\n",
      "s0  State((1, 0, 0, 0, 0, 0), 0, None)\n",
      "==== Step 1 ====\n",
      "True state: State((1, 0, 0, 0, 0, 0), 0, None), 1 0\n",
      "Action: Action(0)\n",
      "Observation: Observation((1, 0, 0, 0)),  1\n",
      "Reward: 1.0\n",
      "True next state: State((1, 1, 1, 1, 0, 0), 1, 1), 2 0\n",
      "VNode(60000.000, 0.483 | dict_keys([Action(0), Action(1)])) {Action(0): QNode(31503.000, 0.483 | dict_keys([Observation((1, 0, 0, 0)), Observation((0, 1, 0, 0))])), Action(1): QNode(28498.000, 0.464 | dict_keys([Observation((0, 0, 0, 1)), Observation((0, 0, 1, 0))]))} State((1, 1, 1, 1, 0, 0), 1, 1) Observation((1, 0, 0, 0))\n",
      "{Action(0): 0.4833194315433502, Action(1): 0.46378669142723083}\n",
      "==== Step 2 ====\n",
      "True state: State((1, 1, 1, 1, 0, 0), 1, 1), 2 0\n",
      "Action: Action(1)\n",
      "Observation: Observation((1, 0, 1, 0)),  2\n",
      "Reward: 1.0\n",
      "True next state: State((2, 1, 1, 1, 1, 1), 0, 1), 3 0\n",
      "VNode(35647.000, 0.052 | dict_keys([Action(0), Action(1)])) {Action(0): QNode(4049.000, -0.602 | dict_keys([Observation((1, 1, 0, 0)), Observation((2, 0, 0, 0))])), Action(1): QNode(31599.000, 0.052 | dict_keys([Observation((1, 0, 0, 1)), Observation((1, 0, 1, 0))]))} State((2, 1, 1, 1, 1, 1), 0, 1) Observation((1, 0, 1, 0))\n",
      "{Action(0): -0.6016295552253723, Action(1): 0.051710691303014755}\n",
      "==== Step 3 ====\n",
      "True state: State((2, 1, 1, 1, 1, 1), 0, 1), 3 0\n",
      "Action: Action(0)\n",
      "Observation: Observation((2, 0, 1, 0)),  3\n",
      "Reward: 1.0\n",
      "True next state: State((2, 2, 2, 2, 1, 1), 1, 1), 4 0\n",
      "VNode(41085.000, -1.268 | dict_keys([Action(0), Action(1)])) {Action(0): QNode(20829.000, -1.268 | dict_keys([Observation((1, 1, 1, 0)), Observation((2, 0, 1, 0))])), Action(1): QNode(20257.000, -1.274 | dict_keys([Observation((1, 0, 1, 1)), Observation((1, 0, 2, 0))]))} State((2, 2, 2, 2, 1, 1), 1, 1) Observation((2, 0, 1, 0))\n",
      "{Action(0): -1.2675137519836426, Action(1): -1.2738336324691772}\n",
      "==== Step 4 ====\n",
      "True state: State((2, 2, 2, 2, 1, 1), 1, 1), 4 0\n",
      "Action: Action(0)\n",
      "Observation: Observation((2, 1, 1, 0)),  4\n",
      "Reward: 0.0\n",
      "True next state: State((2, 3, 2, 2, 1, 1), $, 0), 4 1\n",
      "VNode(28280.000, -2.597 | dict_keys([Action(0), Action(1)])) {Action(0): QNode(14141.000, -2.597 | dict_keys([Observation((2, 1, 1, 0))])), Action(1): QNode(14140.000, -2.597 | dict_keys([Observation((2, 0, 2, 0))]))} State((2, 3, 2, 2, 1, 1), $, 0) Observation((2, 1, 1, 0))\n",
      "{Action(0): -2.597201108932495, Action(1): -2.5972416400909424}\n",
      "Reward (Cumulative): 3.0\n",
      "VNode(12590.000, 0.000 | dict_keys([Action(0), Action(1)]))\n",
      "average reward  2.6666666666666665 *** iter = 3\n",
      "s0  State((0, 0, 0, 1, 0, 0), 1, None)\n",
      "==== Step 1 ====\n",
      "True state: State((0, 0, 0, 1, 0, 0), 1, None), 1 0\n",
      "Action: Action(0)\n",
      "Observation: Observation((0, 1, 0, 0)),  1\n",
      "Reward: 0.0\n",
      "True next state: State((0, 1, 0, 2, 0, 0), 1, 0), 2 0\n",
      "VNode(80000.000, 0.513 | dict_keys([Action(0), Action(1)])) {Action(0): QNode(42162.000, 0.513 | dict_keys([Observation((1, 0, 0, 0)), Observation((0, 1, 0, 0))])), Action(1): QNode(37839.000, 0.495 | dict_keys([Observation((0, 0, 0, 1)), Observation((0, 0, 1, 0))]))} State((0, 1, 0, 2, 0, 0), 1, 0) Observation((0, 1, 0, 0))\n",
      "{Action(0): 0.5129493474960327, Action(1): 0.4948335886001587}\n",
      "==== Step 2 ====\n",
      "True state: State((0, 1, 0, 2, 0, 0), 1, 0), 2 0\n",
      "Action: Action(0)\n",
      "Observation: Observation((0, 2, 0, 0)),  2\n",
      "Reward: 0.0\n",
      "True next state: State((1, 2, 0, 2, 0, 0), 0, 0), 3 0\n",
      "VNode(41178.000, 0.127 | dict_keys([Action(0), Action(1)])) {Action(0): QNode(36910.000, 0.127 | dict_keys([Observation((0, 2, 0, 0)), Observation((1, 1, 0, 0))])), Action(1): QNode(4269.000, -0.531 | dict_keys([Observation((0, 1, 0, 1)), Observation((0, 1, 1, 0))]))} State((1, 2, 0, 2, 0, 0), 0, 0) Observation((0, 2, 0, 0))\n",
      "{Action(0): 0.12747181951999664, Action(1): -0.5310372114181519}\n"
     ]
    },
    {
     "name": "stdout",
     "output_type": "stream",
     "text": [
      "==== Step 3 ====\n",
      "True state: State((1, 2, 0, 2, 0, 0), 0, 0), 3 0\n",
      "Action: Action(0)\n",
      "Observation: Observation((1, 2, 0, 0)),  3\n",
      "Reward: 1.0\n",
      "True next state: State((2, 3, 1, 2, 0, 0), 0, 1), 4 0\n",
      "VNode(32312.000, -0.443 | dict_keys([Action(0), Action(1)])) {Action(0): QNode(31189.000, -0.443 | dict_keys([Observation((1, 2, 0, 0))])), Action(1): QNode(1124.000, -2.001 | dict_keys([Observation((0, 2, 0, 1))]))} State((2, 3, 1, 2, 0, 0), 0, 1) Observation((1, 2, 0, 0))\n",
      "{Action(0): -0.4433594048023224, Action(1): -2.000889301300049}\n",
      "==== Step 4 ====\n",
      "True state: State((2, 3, 1, 2, 0, 0), 0, 1), 4 0\n",
      "Action: Action(0)\n",
      "Observation: Observation((2, 2, 0, 0)),  4\n",
      "Reward: 0.0\n",
      "True next state: State((2, 4, 2, 2, 0, 0), $, 0), 4 1\n",
      "VNode(45476.000, -2.309 | dict_keys([Action(0), Action(1)])) {Action(0): QNode(22739.000, -2.309 | dict_keys([Observation((2, 2, 0, 0))])), Action(1): QNode(22738.000, -2.309 | dict_keys([Observation((1, 2, 0, 1))]))} State((2, 4, 2, 2, 0, 0), $, 0) Observation((2, 2, 0, 0))\n",
      "{Action(0): -2.309117555618286, Action(1): -2.309131383895874}\n",
      "Reward (Cumulative): 1.0\n",
      "VNode(19772.000, 0.000 | dict_keys([Action(0), Action(1)]))\n",
      "average reward  2.25 *** iter = 4\n",
      "s0  State((1, 0, 0, 0, 0, 0), 0, None)\n",
      "==== Step 1 ====\n",
      "True state: State((1, 0, 0, 0, 0, 0), 0, None), 1 0\n",
      "Action: Action(0)\n",
      "Observation: Observation((1, 0, 0, 0)),  1\n",
      "Reward: 1.0\n",
      "True next state: State((1, 1, 1, 1, 0, 0), 1, 1), 2 0\n",
      "VNode(100000.000, 0.534 | dict_keys([Action(0), Action(1)])) {Action(0): QNode(52414.000, 0.534 | dict_keys([Observation((1, 0, 0, 0)), Observation((0, 1, 0, 0))])), Action(1): QNode(47587.000, 0.519 | dict_keys([Observation((0, 0, 0, 1)), Observation((0, 0, 1, 0))]))} State((1, 1, 1, 1, 0, 0), 1, 1) Observation((1, 0, 0, 0))\n",
      "{Action(0): 0.5336916446685791, Action(1): 0.5192610621452332}\n",
      "==== Step 2 ====\n",
      "True state: State((1, 1, 1, 1, 0, 0), 1, 1), 2 0\n",
      "Action: Action(1)\n",
      "Observation: Observation((1, 0, 1, 0)),  2\n",
      "Reward: 1.0\n",
      "True next state: State((2, 1, 1, 1, 1, 1), 0, 1), 3 0\n",
      "VNode(46158.000, 0.195 | dict_keys([Action(0), Action(1)])) {Action(0): QNode(4133.000, -0.505 | dict_keys([Observation((1, 1, 0, 0)), Observation((2, 0, 0, 0))])), Action(1): QNode(42026.000, 0.195 | dict_keys([Observation((1, 0, 0, 1)), Observation((1, 0, 1, 0))]))} State((2, 1, 1, 1, 1, 1), 0, 1) Observation((1, 0, 1, 0))\n",
      "{Action(0): -0.5052023530006409, Action(1): 0.1946420818567276}\n",
      "==== Step 3 ====\n",
      "True state: State((2, 1, 1, 1, 1, 1), 0, 1), 3 0\n",
      "Action: Action(0)\n",
      "Observation: Observation((2, 0, 1, 0)),  3\n",
      "Reward: 1.0\n",
      "True next state: State((2, 2, 2, 2, 1, 1), 1, 1), 4 0\n",
      "VNode(48114.000, -1.085 | dict_keys([Action(0), Action(1)])) {Action(0): QNode(24131.000, -1.085 | dict_keys([Observation((1, 1, 1, 0)), Observation((2, 0, 1, 0))])), Action(1): QNode(23984.000, -1.086 | dict_keys([Observation((1, 0, 1, 1)), Observation((1, 0, 2, 0))]))} State((2, 2, 2, 2, 1, 1), 1, 1) Observation((2, 0, 1, 0))\n",
      "{Action(0): -1.0849127769470215, Action(1): -1.0861371755599976}\n",
      "==== Step 4 ====\n",
      "True state: State((2, 2, 2, 2, 1, 1), 1, 1), 4 0\n",
      "Action: Action(0)\n",
      "Observation: Observation((2, 1, 1, 0)),  4\n",
      "Reward: 0.0\n",
      "True next state: State((2, 3, 2, 2, 1, 1), $, 0), 4 1\n",
      "VNode(28125.000, -2.601 | dict_keys([Action(0), Action(1)])) {Action(0): QNode(14065.000, -2.601 | dict_keys([Observation((2, 1, 1, 0))])), Action(1): QNode(14061.000, -2.601 | dict_keys([Observation((2, 0, 2, 0))]))} State((2, 3, 2, 2, 1, 1), $, 0) Observation((2, 1, 1, 0))\n",
      "{Action(0): -2.601348638534546, Action(1): -2.6014490127563477}\n",
      "Reward (Cumulative): 3.0\n",
      "VNode(12526.000, 0.000 | dict_keys([Action(0), Action(1)]))\n",
      "average reward  2.4 *** iter = 5\n",
      "s0  State((0, 0, 0, 1, 0, 0), 1, None)\n",
      "==== Step 1 ====\n",
      "True state: State((0, 0, 0, 1, 0, 0), 1, None), 1 0\n",
      "Action: Action(0)\n",
      "Observation: Observation((0, 1, 0, 0)),  1\n",
      "Reward: 0.0\n",
      "True next state: State((0, 1, 0, 2, 0, 0), 1, 0), 2 0\n",
      "VNode(120000.000, 0.549 | dict_keys([Action(0), Action(1)])) {Action(0): QNode(63451.000, 0.549 | dict_keys([Observation((1, 0, 0, 0)), Observation((0, 1, 0, 0))])), Action(1): QNode(56550.000, 0.533 | dict_keys([Observation((0, 0, 0, 1)), Observation((0, 0, 1, 0))]))} State((0, 1, 0, 2, 0, 0), 1, 0) Observation((0, 1, 0, 0))\n",
      "{Action(0): 0.5487051010131836, Action(1): 0.5328601002693176}\n",
      "==== Step 2 ====\n",
      "True state: State((0, 1, 0, 2, 0, 0), 1, 0), 2 0\n",
      "Action: Action(0)\n",
      "Observation: Observation((0, 2, 0, 0)),  2\n",
      "Reward: 0.0\n",
      "True next state: State((1, 2, 0, 2, 0, 0), 0, 0), 3 0\n",
      "VNode(51753.000, 0.240 | dict_keys([Action(0), Action(1)])) {Action(0): QNode(47248.000, 0.240 | dict_keys([Observation((0, 2, 0, 0)), Observation((1, 1, 0, 0))])), Action(1): QNode(4506.000, -0.439 | dict_keys([Observation((0, 1, 0, 1)), Observation((0, 1, 1, 0))]))} State((1, 2, 0, 2, 0, 0), 0, 0) Observation((0, 2, 0, 0))\n",
      "{Action(0): 0.24022139608860016, Action(1): -0.43852654099464417}\n",
      "==== Step 3 ====\n",
      "True state: State((1, 2, 0, 2, 0, 0), 0, 0), 3 0\n",
      "Action: Action(0)\n",
      "Observation: Observation((1, 2, 0, 0)),  3\n",
      "Reward: 1.0\n",
      "True next state: State((2, 3, 1, 2, 0, 0), 0, 1), 4 0\n",
      "VNode(35589.000, -0.307 | dict_keys([Action(0), Action(1)])) {Action(0): QNode(34474.000, -0.307 | dict_keys([Observation((1, 2, 0, 0))])), Action(1): QNode(1116.000, -1.898 | dict_keys([Observation((0, 2, 0, 1))]))} State((2, 3, 1, 2, 0, 0), 0, 1) Observation((1, 2, 0, 0))\n",
      "{Action(0): -0.3069409728050232, Action(1): -1.8978500366210938}\n",
      "==== Step 4 ====\n",
      "True state: State((2, 3, 1, 2, 0, 0), 0, 1), 4 0\n",
      "Action: Action(0)\n",
      "Observation: Observation((2, 2, 0, 0)),  4\n",
      "Reward: 0.0\n",
      "True next state: State((2, 4, 2, 2, 0, 0), $, 0), 4 1\n",
      "VNode(45475.000, -2.310 | dict_keys([Action(0), Action(1)])) {Action(0): QNode(22738.000, -2.310 | dict_keys([Observation((2, 2, 0, 0))])), Action(1): QNode(22738.000, -2.310 | dict_keys([Observation((1, 2, 0, 1))]))} State((2, 4, 2, 2, 0, 0), $, 0) Observation((2, 2, 0, 0))\n",
      "{Action(0): -2.310009479522705, Action(1): -2.310009479522705}\n",
      "Reward (Cumulative): 1.0\n",
      "VNode(19791.000, 0.000 | dict_keys([Action(0), Action(1)]))\n",
      "average reward  2.1666666666666665 *** iter = 6\n",
      "s0  State((0, 0, 0, 1, 0, 0), 1, None)\n",
      "==== Step 1 ====\n",
      "True state: State((0, 0, 0, 1, 0, 0), 1, None), 1 0\n",
      "Action: Action(0)\n",
      "Observation: Observation((0, 1, 0, 0)),  1\n",
      "Reward: 0.0\n",
      "True next state: State((0, 1, 0, 2, 0, 0), 1, 0), 2 0\n",
      "VNode(140000.000, 0.556 | dict_keys([Action(0), Action(1)])) {Action(0): QNode(72512.000, 0.556 | dict_keys([Observation((1, 0, 0, 0)), Observation((0, 1, 0, 0))])), Action(1): QNode(67489.000, 0.547 | dict_keys([Observation((0, 0, 0, 1)), Observation((0, 0, 1, 0))]))} State((0, 1, 0, 2, 0, 0), 1, 0) Observation((0, 1, 0, 0))\n",
      "{Action(0): 0.5559194087982178, Action(1): 0.5469653010368347}\n",
      "==== Step 2 ====\n",
      "True state: State((0, 1, 0, 2, 0, 0), 1, 0), 2 0\n",
      "Action: Action(0)\n",
      "Observation: Observation((0, 2, 0, 0)),  2\n",
      "Reward: 0.0\n",
      "True next state: State((1, 2, 0, 2, 0, 0), 0, 0), 3 0\n",
      "VNode(56312.000, 0.274 | dict_keys([Action(0), Action(1)])) {Action(0): QNode(51431.000, 0.274 | dict_keys([Observation((0, 2, 0, 0)), Observation((1, 1, 0, 0))])), Action(1): QNode(4882.000, -0.381 | dict_keys([Observation((0, 1, 0, 1)), Observation((0, 1, 1, 0))]))} State((1, 2, 0, 2, 0, 0), 0, 0) Observation((0, 2, 0, 0))\n",
      "{Action(0): 0.2740611433982849, Action(1): -0.381196528673172}\n",
      "==== Step 3 ====\n",
      "True state: State((1, 2, 0, 2, 0, 0), 0, 0), 3 0\n",
      "Action: Action(0)\n",
      "Observation: Observation((1, 2, 0, 0)),  3\n",
      "Reward: 1.0\n",
      "True next state: State((2, 3, 1, 2, 0, 0), 0, 1), 4 0\n",
      "VNode(37130.000, -0.256 | dict_keys([Action(0), Action(1)])) {Action(0): QNode(36018.000, -0.256 | dict_keys([Observation((1, 2, 0, 0))])), Action(1): QNode(1113.000, -1.861 | dict_keys([Observation((0, 2, 0, 1))]))} State((2, 3, 1, 2, 0, 0), 0, 1) Observation((1, 2, 0, 0))\n",
      "{Action(0): -0.2563919723033905, Action(1): -1.8607375621795654}\n",
      "==== Step 4 ====\n",
      "True state: State((2, 3, 1, 2, 0, 0), 0, 1), 4 0\n",
      "Action: Action(0)\n",
      "Observation: Observation((2, 2, 0, 0)),  4\n",
      "Reward: 0.0\n",
      "True next state: State((2, 4, 2, 2, 0, 0), $, 0), 4 1\n",
      "VNode(45655.000, -2.305 | dict_keys([Action(0), Action(1)])) {Action(0): QNode(22830.000, -2.305 | dict_keys([Observation((2, 2, 0, 0))])), Action(1): QNode(22826.000, -2.305 | dict_keys([Observation((1, 2, 0, 1))]))} State((2, 4, 2, 2, 0, 0), $, 0) Observation((2, 2, 0, 0))\n",
      "{Action(0): -2.305213212966919, Action(1): -2.3052213191986084}\n"
     ]
    },
    {
     "name": "stdout",
     "output_type": "stream",
     "text": [
      "Reward (Cumulative): 1.0\n",
      "VNode(19801.000, 0.000 | dict_keys([Action(0), Action(1)]))\n",
      "average reward  2.0 *** iter = 7\n",
      "s0  State((1, 0, 0, 0, 0, 0), 0, None)\n",
      "==== Step 1 ====\n"
     ]
    }
   ],
   "source": [
    "T = P.m*P.n\n",
    "init_true_state= get_random_state()\n",
    "init_belief_hist = init_belief_particle_s0(all_states)\n",
    "init_belief_part = init_belief_particle_s0(all_states)\n",
    "card_problem = CardProblem(init_true_state, init_belief_hist)\n",
    "card_problem.agent.tree = None\n",
    "\n",
    "print(\"*** Testing POMCP ***\")\n",
    "\n",
    "card_problem.agent.tree = None\n",
    "n_iter = 100\n",
    "reuse = False\n",
    "\n",
    "pomcp = pomdp_py.POMCP(max_depth=T//2, discount_factor=1.,\n",
    "                           num_sims=20000, exploration_const=20,\n",
    "                           rollout_policy=card_problem.agent.policy_model,\n",
    "                           num_visits_init=1)\n",
    "\n",
    "mcp_rewards = mc_average(card_problem, pomcp, n_iter, \"rewards_pomcp%d.npy\"%n_iter, init_belief_part, reuse, T)"
   ]
  },
  {
   "cell_type": "code",
   "execution_count": null,
   "metadata": {},
   "outputs": [],
   "source": [
    "for a in range(P.n):\n",
    "    print(card_problem.agent.tree[a], card_problem.agent.tree)\n",
    "    print(tree_i[a])"
   ]
  },
  {
   "cell_type": "code",
   "execution_count": null,
   "metadata": {},
   "outputs": [],
   "source": [
    "planner = pomcp\n",
    "\n",
    "s0 = env_reset_s0(card_problem)\n",
    "print(\"s0 \",   s0)\n",
    "total_reward = 0\n",
    "action = planner.plan(card_problem.agent)\n",
    "#action = policy.sample(card_problem.agent.cur_belief)\n",
    "\n",
    "true_state = copy.deepcopy(card_problem.env.state)\n",
    "env_reward = card_problem.env.state_transition(action, execute=True)\n",
    "true_next_state = copy.deepcopy(card_problem.env.state)\n",
    "real_observation = card_problem.env.provide_observation(card_problem.agent.observation_model, action)\n",
    "card_problem.agent.update_history(action, real_observation)    \n",
    "    \n",
    "    \n",
    "print(\"True state: %s, %d %d\" % (true_state, np.array(true_state.val)[::3].sum(), int(true_state.terminal)))\n",
    "print(\"Action: %s\" % str(action))\n",
    "print(\"Observation: %s,  %d\" % (str(real_observation), np.array(real_observation.val).sum()))\n",
    "print(\"Reward: %s\" % str(np.maximum(0, env_reward)))\n",
    "print(\"True next state: %s, %d %d\" % (true_next_state, \n",
    "    np.array(true_next_state.val)[::3].sum(), int(true_next_state.terminal)))\n",
    "\n",
    "env_reward = card_problem.env.state_transition(action, execute=True)\n",
    "true_next_state = copy.deepcopy(card_problem.env.state)\n",
    "real_observation = card_problem.env.provide_observation(card_problem.agent.observation_model, action)\n",
    "card_problem.agent.update_history(action, real_observation)    \n",
    "    \n",
    "    \n",
    "print(\"True state: %s, %d %d\" % (true_state, np.array(true_state.val)[::3].sum(), int(true_state.terminal)))\n",
    "print(\"Action: %s\" % str(action))\n",
    "print(\"Observation: %s,  %d\" % (str(real_observation), np.array(real_observation.val).sum()))\n",
    "print(\"Reward: %s\" % str(np.maximum(0, env_reward)))\n",
    "print(\"True next state: %s, %d %d\" % (true_next_state, \n",
    "    np.array(true_next_state.val)[::3].sum(), int(true_next_state.terminal)))"
   ]
  },
  {
   "cell_type": "code",
   "execution_count": null,
   "metadata": {},
   "outputs": [],
   "source": []
  },
  {
   "cell_type": "code",
   "execution_count": null,
   "metadata": {
    "scrolled": true
   },
   "outputs": [],
   "source": [
    "s0 = State(tuple(np.zeros(3*P.n, np.int32)), -1)\n",
    "all_states = set()\n",
    "create_all_states(s0, all_states)"
   ]
  },
  {
   "cell_type": "code",
   "execution_count": null,
   "metadata": {},
   "outputs": [],
   "source": [
    "(P.n*2)**(P.n*P.m)"
   ]
  },
  {
   "cell_type": "code",
   "execution_count": null,
   "metadata": {},
   "outputs": [],
   "source": [
    "len(all_states)"
   ]
  },
  {
   "cell_type": "code",
   "execution_count": null,
   "metadata": {},
   "outputs": [],
   "source": [
    "# states for n=5;m=2 is 330438"
   ]
  },
  {
   "cell_type": "code",
   "execution_count": null,
   "metadata": {},
   "outputs": [],
   "source": [
    "for s in all_states:\n",
    "    val = np.array(s.val)\n",
    "    if (val[::3].sum()-1 != val[1::3].sum()) and s.card != \"$\" :\n",
    "        print(s, val[::3].sum(), val[1::3].sum(),\"error in states actions\")"
   ]
  },
  {
   "cell_type": "code",
   "execution_count": null,
   "metadata": {},
   "outputs": [],
   "source": [
    "all_obs = create_all_observations(all_states)"
   ]
  },
  {
   "cell_type": "code",
   "execution_count": null,
   "metadata": {},
   "outputs": [],
   "source": [
    "len(all_obs)"
   ]
  },
  {
   "cell_type": "code",
   "execution_count": null,
   "metadata": {},
   "outputs": [],
   "source": [
    "rewards_all = np.load(\"rewards_pomcp100.npy\")\n",
    "\n",
    "num = (rewards_all != -2*T).sum()\n",
    "print(num)\n",
    "\n",
    "print(rewards_all.sum() * 1.0 / num)"
   ]
  },
  {
   "cell_type": "code",
   "execution_count": null,
   "metadata": {},
   "outputs": [],
   "source": [
    "rewards_all = np.load(\"rewards_pouct500_colab.npy\")\n",
    "\n",
    "num = (rewards_all != -2*T).sum()\n",
    "print(num)\n",
    "\n",
    "print(rewards_all.sum() * 1.0 / num)"
   ]
  },
  {
   "cell_type": "code",
   "execution_count": null,
   "metadata": {},
   "outputs": [],
   "source": [
    "rewards_all"
   ]
  },
  {
   "cell_type": "code",
   "execution_count": null,
   "metadata": {},
   "outputs": [],
   "source": [
    "card_problem.agent.tree.children"
   ]
  },
  {
   "cell_type": "code",
   "execution_count": null,
   "metadata": {},
   "outputs": [],
   "source": []
  },
  {
   "cell_type": "code",
   "execution_count": null,
   "metadata": {},
   "outputs": [],
   "source": [
    "rewards_all"
   ]
  },
  {
   "cell_type": "code",
   "execution_count": null,
   "metadata": {},
   "outputs": [],
   "source": []
  },
  {
   "cell_type": "code",
   "execution_count": null,
   "metadata": {},
   "outputs": [],
   "source": [
    "from julia.api import Julia\n",
    "jl = Julia(compiled_modules=False)\n",
    "\n",
    "from julia.QMDP import QMDPSolver\n",
    "from julia.SARSOP import SARSOPSolver"
   ]
  },
  {
   "cell_type": "code",
   "execution_count": null,
   "metadata": {},
   "outputs": [],
   "source": []
  }
 ],
 "metadata": {
  "kernelspec": {
   "display_name": "Python 3",
   "language": "python",
   "name": "python3"
  },
  "language_info": {
   "codemirror_mode": {
    "name": "ipython",
    "version": 3
   },
   "file_extension": ".py",
   "mimetype": "text/x-python",
   "name": "python",
   "nbconvert_exporter": "python",
   "pygments_lexer": "ipython3",
   "version": "3.6.9"
  }
 },
 "nbformat": 4,
 "nbformat_minor": 5
}
