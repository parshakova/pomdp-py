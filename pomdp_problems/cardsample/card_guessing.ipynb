{
 "cells": [
  {
   "cell_type": "code",
   "execution_count": 1,
   "metadata": {},
   "outputs": [],
   "source": [
    "import numpy as np\n",
    "import math"
   ]
  },
  {
   "cell_type": "code",
   "execution_count": 2,
   "metadata": {
    "scrolled": true
   },
   "outputs": [
    {
     "name": "stdout",
     "output_type": "stream",
     "text": [
      "|S| = 45\n",
      "|O| = 35\n"
     ]
    }
   ],
   "source": [
    "from cardsample_problem import *"
   ]
  },
  {
   "cell_type": "code",
   "execution_count": null,
   "metadata": {
    "scrolled": false
   },
   "outputs": [
    {
     "name": "stdout",
     "output_type": "stream",
     "text": [
      "*** Testing POMCP ***\n",
      "s0  State((1, 0, 0, 0, 0, 0), 0, None)\n",
      "==== Step 1 ====\n",
      "True state: State((1, 0, 0, 0, 0, 0), 0, None), 1 0\n",
      "Action: Action(0)\n",
      "Observation: Observation((1, 0, 0, 0)),  1\n",
      "Reward: 1.0\n",
      "True next state: State((1, 1, 1, 1, 0, 0), 1, 1), 2 0\n",
      "VNode(20000.000, 0.387 | dict_keys([Action(0), Action(1)])) {Action(0): QNode(10174.000, 0.387 | dict_keys([Observation((0, 1, 0, 0)), Observation((1, 0, 0, 0))])), Action(1): QNode(9827.000, 0.376 | dict_keys([Observation((0, 0, 1, 0)), Observation((0, 0, 0, 1))]))} State((1, 1, 1, 1, 0, 0), 1, 1) Observation((1, 0, 0, 0))\n",
      "{Action(0): 0.3867702782154083, Action(1): 0.37610673904418945}\n",
      "==== Step 2 ====\n",
      "True state: State((1, 1, 1, 1, 0, 0), 1, 1), 2 0\n",
      "Action: Action(1)\n",
      "Observation: Observation((1, 0, 1, 0)),  2\n",
      "Reward: 1.0\n",
      "True next state: State((1, 1, 1, 2, 1, 1), 1, 1), 3 0\n",
      "VNode(25141.000, -0.215 | dict_keys([Action(0), Action(1)])) {Action(0): QNode(4037.000, -0.779 | dict_keys([Observation((1, 1, 0, 0)), Observation((2, 0, 0, 0))])), Action(1): QNode(21105.000, -0.215 | dict_keys([Observation((1, 0, 1, 0)), Observation((1, 0, 0, 1))]))} State((1, 1, 1, 2, 1, 1), 1, 1) Observation((1, 0, 1, 0))\n",
      "{Action(0): -0.7787966132164001, Action(1): -0.21483005583286285}\n",
      "==== Step 3 ====\n",
      "True state: State((1, 1, 1, 2, 1, 1), 1, 1), 3 0\n",
      "Action: Action(0)\n",
      "Observation: Observation((1, 1, 1, 0)),  3\n",
      "Reward: 0.0\n",
      "True next state: State((2, 2, 1, 2, 1, 1), 0, 0), 4 0\n",
      "VNode(33823.000, -1.512 | dict_keys([Action(0), Action(1)])) {Action(0): QNode(16983.000, -1.512 | dict_keys([Observation((1, 1, 1, 0)), Observation((2, 0, 1, 0))])), Action(1): QNode(16841.000, -1.514 | dict_keys([Observation((1, 0, 1, 1)), Observation((1, 0, 2, 0))]))} State((2, 2, 1, 2, 1, 1), 0, 0) Observation((1, 1, 1, 0))\n",
      "{Action(0): -1.5118128061294556, Action(1): -1.513870358467102}\n",
      "==== Step 4 ====\n",
      "True state: State((2, 2, 1, 2, 1, 1), 0, 0), 4 0\n",
      "Action: Action(1)\n",
      "Observation: Observation((1, 1, 1, 1)),  4\n",
      "Reward: 0.0\n",
      "True next state: State((2, 2, 1, 2, 2, 1), $, 0), 4 1\n",
      "VNode(27814.000, -2.617 | dict_keys([Action(0), Action(1)])) {Action(0): QNode(13906.000, -2.617 | dict_keys([Observation((2, 1, 1, 0))])), Action(1): QNode(13909.000, -2.617 | dict_keys([Observation((1, 1, 1, 1))]))} State((2, 2, 1, 2, 2, 1), $, 0) Observation((1, 1, 1, 1))\n",
      "{Action(0): -2.616999864578247, Action(1): -2.616938829421997}\n",
      "Reward (Cumulative): 2.0\n",
      "VNode(12493.000, 0.000 | dict_keys([Action(0), Action(1)]))\n",
      "*** iter = 1\n",
      "2.0\n",
      "s0  State((1, 0, 0, 0, 0, 0), 0, None)\n",
      "==== Step 1 ====\n",
      "True state: State((1, 0, 0, 0, 0, 0), 0, None), 1 0\n",
      "Action: Action(1)\n",
      "Observation: Observation((0, 0, 0, 1)),  1\n",
      "Reward: 0.0\n",
      "True next state: State((1, 0, 0, 1, 1, 0), 1, 0), 2 0\n",
      "VNode(40000.000, 0.455 | dict_keys([Action(0), Action(1)])) {Action(0): QNode(19889.000, 0.452 | dict_keys([Observation((0, 1, 0, 0)), Observation((1, 0, 0, 0))])), Action(1): QNode(20112.000, 0.455 | dict_keys([Observation((0, 0, 1, 0)), Observation((0, 0, 0, 1))]))} State((1, 0, 0, 1, 1, 0), 1, 0) Observation((0, 0, 0, 1))\n",
      "{Action(0): 0.45211026072502136, Action(1): 0.45500263571739197}\n",
      "==== Step 2 ====\n",
      "True state: State((1, 0, 0, 1, 1, 0), 1, 0), 2 0\n",
      "Action: Action(1)\n",
      "Observation: Observation((0, 0, 1, 1)),  2\n",
      "Reward: 1.0\n",
      "True next state: State((1, 0, 0, 2, 2, 1), 1, 1), 3 0\n",
      "VNode(30063.000, -0.056 | dict_keys([Action(0), Action(1)])) {Action(0): QNode(4002.000, -0.674 | dict_keys([Observation((0, 1, 0, 1)), Observation((1, 0, 0, 1))])), Action(1): QNode(26062.000, -0.056 | dict_keys([Observation((0, 0, 1, 1)), Observation((0, 0, 0, 2))]))} State((1, 0, 0, 2, 2, 1), 1, 1) Observation((0, 0, 1, 1))\n",
      "{Action(0): -0.6736634373664856, Action(1): -0.05617411434650421}\n",
      "==== Step 3 ====\n",
      "True state: State((1, 0, 0, 2, 2, 1), 1, 1), 3 0\n",
      "Action: Action(1)\n",
      "Observation: Observation((0, 0, 2, 1)),  3\n",
      "Reward: 1.0\n",
      "True next state: State((2, 0, 0, 2, 3, 2), 0, 1), 4 0\n",
      "VNode(37388.000, -1.381 | dict_keys([Action(0), Action(1)])) {Action(0): QNode(18619.000, -1.383 | dict_keys([Observation((1, 0, 1, 1)), Observation((0, 1, 1, 1))])), Action(1): QNode(18770.000, -1.381 | dict_keys([Observation((0, 0, 1, 2)), Observation((0, 0, 2, 1))]))} State((2, 0, 0, 2, 3, 2), 0, 1) Observation((0, 0, 2, 1))\n",
      "{Action(0): -1.3832720518112183, Action(1): -1.3814091682434082}\n",
      "==== Step 4 ====\n",
      "True state: State((2, 0, 0, 2, 3, 2), 0, 1), 4 0\n",
      "Action: Action(1)\n",
      "Observation: Observation((0, 0, 2, 2)),  4\n",
      "Reward: 0.0\n",
      "True next state: State((2, 0, 0, 2, 4, 2), $, 0), 4 1\n",
      "VNode(27988.000, -2.608 | dict_keys([Action(0), Action(1)])) {Action(0): QNode(13993.000, -2.608 | dict_keys([Observation((1, 0, 2, 1))])), Action(1): QNode(13996.000, -2.608 | dict_keys([Observation((0, 0, 2, 2))]))} State((2, 0, 0, 2, 4, 2), $, 0) Observation((0, 0, 2, 2))\n",
      "{Action(0): -2.6084470748901367, Action(1): -2.6083881855010986}\n",
      "Reward (Cumulative): 2.0\n",
      "VNode(12514.000, 0.000 | dict_keys([Action(0), Action(1)]))\n",
      "*** iter = 2\n",
      "2.0\n",
      "s0  State((1, 0, 0, 0, 0, 0), 0, None)\n",
      "==== Step 1 ====\n",
      "True state: State((1, 0, 0, 0, 0, 0), 0, None), 1 0\n",
      "Action: Action(0)\n",
      "Observation: Observation((1, 0, 0, 0)),  1\n",
      "Reward: 1.0\n",
      "True next state: State((2, 1, 1, 0, 0, 0), 0, 1), 2 0\n",
      "VNode(60000.000, 0.494 | dict_keys([Action(0), Action(1)])) {Action(0): QNode(30321.000, 0.494 | dict_keys([Observation((0, 1, 0, 0)), Observation((1, 0, 0, 0))])), Action(1): QNode(29680.000, 0.490 | dict_keys([Observation((0, 0, 1, 0)), Observation((0, 0, 0, 1))]))} State((2, 1, 1, 0, 0, 0), 0, 1) Observation((1, 0, 0, 0))\n",
      "{Action(0): 0.4939824938774109, Action(1): 0.4897238314151764}\n",
      "==== Step 2 ====\n",
      "True state: State((2, 1, 1, 0, 0, 0), 0, 1), 2 0\n",
      "Action: Action(1)\n",
      "Observation: Observation((1, 0, 0, 1)),  2\n",
      "Reward: 0.0\n",
      "True next state: State((2, 1, 1, 1, 1, 0), 1, 0), 3 0\n",
      "VNode(35144.000, 0.039 | dict_keys([Action(0), Action(1)])) {Action(0): QNode(4426.000, -0.565 | dict_keys([Observation((1, 1, 0, 0)), Observation((2, 0, 0, 0))])), Action(1): QNode(30719.000, 0.039 | dict_keys([Observation((1, 0, 1, 0)), Observation((1, 0, 0, 1))]))} State((2, 1, 1, 1, 1, 0), 1, 0) Observation((1, 0, 0, 1))\n",
      "{Action(0): -0.5648441910743713, Action(1): 0.03893304243683815}\n",
      "==== Step 3 ====\n",
      "True state: State((2, 1, 1, 1, 1, 0), 1, 0), 3 0\n",
      "Action: Action(1)\n",
      "Observation: Observation((1, 0, 1, 1)),  3\n",
      "Reward: 1.0\n",
      "True next state: State((2, 1, 1, 2, 2, 1), 1, 1), 4 0\n",
      "VNode(30378.000, -0.532 | dict_keys([Action(0), Action(1)])) {Action(0): QNode(1123.000, -2.075 | dict_keys([Observation((1, 1, 0, 1))])), Action(1): QNode(29256.000, -0.532 | dict_keys([Observation((1, 0, 1, 1))]))} State((2, 1, 1, 2, 2, 1), 1, 1) Observation((1, 0, 1, 1))\n",
      "{Action(0): -2.074801206588745, Action(1): -0.532301127910614}\n",
      "==== Step 4 ====\n",
      "True state: State((2, 1, 1, 2, 2, 1), 1, 1), 4 0\n",
      "Action: Action(0)\n",
      "Observation: Observation((1, 1, 1, 1)),  4\n",
      "Reward: 0.0\n",
      "True next state: State((2, 2, 1, 2, 2, 1), $, 0), 4 1\n",
      "VNode(45313.000, -2.313 | dict_keys([Action(0), Action(1)])) {Action(0): QNode(22657.000, -2.313 | dict_keys([Observation((1, 1, 1, 1))])), Action(1): QNode(22657.000, -2.313 | dict_keys([Observation((1, 0, 2, 1))]))} State((2, 2, 1, 2, 2, 1), $, 0) Observation((1, 1, 1, 1))\n",
      "{Action(0): -2.3132801055908203, Action(1): -2.3132801055908203}\n",
      "Reward (Cumulative): 2.0\n",
      "VNode(19759.000, 0.000 | dict_keys([Action(0), Action(1)]))\n"
     ]
    }
   ],
   "source": [
    "T = P.m*P.n\n",
    "init_true_state= get_random_state()\n",
    "init_belief_hist = init_belief_particle_s0(all_states)\n",
    "init_belief_part = init_belief_particle_s0(all_states)\n",
    "card_problem = CardProblem(init_true_state, init_belief_hist)\n",
    "card_problem.agent.tree = None\n",
    "\n",
    "print(\"*** Testing POMCP ***\")\n",
    "\n",
    "card_problem.agent.tree = None\n",
    "n_iter = 100\n",
    "reuse = False\n",
    "\n",
    "pomcp = pomdp_py.POMCP(max_depth=T//2, discount_factor=1.,\n",
    "                           num_sims=20000, exploration_const=20,\n",
    "                           rollout_policy=card_problem.agent.policy_model,\n",
    "                           num_visits_init=1)\n",
    "\n",
    "mcp_rewards = mc_average(card_problem, pomcp, n_iter, \"rewards_pomcp%d.npy\"%n_iter, init_belief_part, reuse, T)"
   ]
  },
  {
   "cell_type": "code",
   "execution_count": null,
   "metadata": {},
   "outputs": [],
   "source": [
    "for a in range(P.n):\n",
    "    print(card_problem.agent.tree[a], card_problem.agent.tree)\n",
    "    print(tree_i[a])"
   ]
  },
  {
   "cell_type": "code",
   "execution_count": null,
   "metadata": {},
   "outputs": [],
   "source": [
    "planner = pomcp\n",
    "\n",
    "s0 = env_reset_s0(card_problem)\n",
    "print(\"s0 \",   s0)\n",
    "total_reward = 0\n",
    "action = planner.plan(card_problem.agent)\n",
    "#action = policy.sample(card_problem.agent.cur_belief)\n",
    "\n",
    "true_state = copy.deepcopy(card_problem.env.state)\n",
    "env_reward = card_problem.env.state_transition(action, execute=True)\n",
    "true_next_state = copy.deepcopy(card_problem.env.state)\n",
    "real_observation = card_problem.env.provide_observation(card_problem.agent.observation_model, action)\n",
    "card_problem.agent.update_history(action, real_observation)    \n",
    "    \n",
    "    \n",
    "print(\"True state: %s, %d %d\" % (true_state, np.array(true_state.val)[::3].sum(), int(true_state.terminal)))\n",
    "print(\"Action: %s\" % str(action))\n",
    "print(\"Observation: %s,  %d\" % (str(real_observation), np.array(real_observation.val).sum()))\n",
    "print(\"Reward: %s\" % str(np.maximum(0, env_reward)))\n",
    "print(\"True next state: %s, %d %d\" % (true_next_state, \n",
    "    np.array(true_next_state.val)[::3].sum(), int(true_next_state.terminal)))\n",
    "\n",
    "env_reward = card_problem.env.state_transition(action, execute=True)\n",
    "true_next_state = copy.deepcopy(card_problem.env.state)\n",
    "real_observation = card_problem.env.provide_observation(card_problem.agent.observation_model, action)\n",
    "card_problem.agent.update_history(action, real_observation)    \n",
    "    \n",
    "    \n",
    "print(\"True state: %s, %d %d\" % (true_state, np.array(true_state.val)[::3].sum(), int(true_state.terminal)))\n",
    "print(\"Action: %s\" % str(action))\n",
    "print(\"Observation: %s,  %d\" % (str(real_observation), np.array(real_observation.val).sum()))\n",
    "print(\"Reward: %s\" % str(np.maximum(0, env_reward)))\n",
    "print(\"True next state: %s, %d %d\" % (true_next_state, \n",
    "    np.array(true_next_state.val)[::3].sum(), int(true_next_state.terminal)))"
   ]
  },
  {
   "cell_type": "code",
   "execution_count": null,
   "metadata": {},
   "outputs": [],
   "source": []
  },
  {
   "cell_type": "code",
   "execution_count": null,
   "metadata": {
    "scrolled": true
   },
   "outputs": [],
   "source": [
    "s0 = State(tuple(np.zeros(3*P.n, np.int32)), -1)\n",
    "all_states = set()\n",
    "create_all_states(s0, all_states)"
   ]
  },
  {
   "cell_type": "code",
   "execution_count": null,
   "metadata": {},
   "outputs": [],
   "source": [
    "(P.n*2)**(P.n*P.m)"
   ]
  },
  {
   "cell_type": "code",
   "execution_count": null,
   "metadata": {},
   "outputs": [],
   "source": [
    "len(all_states)"
   ]
  },
  {
   "cell_type": "code",
   "execution_count": null,
   "metadata": {},
   "outputs": [],
   "source": [
    "# states for n=5;m=2 is 330438"
   ]
  },
  {
   "cell_type": "code",
   "execution_count": null,
   "metadata": {},
   "outputs": [],
   "source": [
    "for s in all_states:\n",
    "    val = np.array(s.val)\n",
    "    if (val[::3].sum()-1 != val[1::3].sum()) and s.card != \"$\" :\n",
    "        print(s, val[::3].sum(), val[1::3].sum(),\"error in states actions\")"
   ]
  },
  {
   "cell_type": "code",
   "execution_count": null,
   "metadata": {},
   "outputs": [],
   "source": [
    "all_obs = create_all_observations(all_states)"
   ]
  },
  {
   "cell_type": "code",
   "execution_count": null,
   "metadata": {},
   "outputs": [],
   "source": [
    "len(all_obs)"
   ]
  },
  {
   "cell_type": "code",
   "execution_count": null,
   "metadata": {},
   "outputs": [],
   "source": [
    "rewards_all = np.load(\"rewards_pomcp100.npy\")\n",
    "\n",
    "num = (rewards_all != 0).sum()\n",
    "print(num)\n",
    "\n",
    "print(rewards_all.sum() * 1.0 / num)"
   ]
  },
  {
   "cell_type": "code",
   "execution_count": null,
   "metadata": {},
   "outputs": [],
   "source": [
    "rewards_all = np.load(\"rewards_pouct500_colab.npy\")\n",
    "\n",
    "num = (rewards_all != 0).sum()\n",
    "print(num)\n",
    "\n",
    "print(rewards_all.sum() * 1.0 / num)"
   ]
  },
  {
   "cell_type": "code",
   "execution_count": null,
   "metadata": {},
   "outputs": [],
   "source": [
    "rewards_all"
   ]
  },
  {
   "cell_type": "code",
   "execution_count": null,
   "metadata": {},
   "outputs": [],
   "source": [
    "card_problem.agent.tree.children"
   ]
  },
  {
   "cell_type": "code",
   "execution_count": null,
   "metadata": {},
   "outputs": [],
   "source": []
  },
  {
   "cell_type": "code",
   "execution_count": null,
   "metadata": {},
   "outputs": [],
   "source": [
    "rewards_all"
   ]
  },
  {
   "cell_type": "code",
   "execution_count": null,
   "metadata": {},
   "outputs": [],
   "source": []
  },
  {
   "cell_type": "code",
   "execution_count": null,
   "metadata": {},
   "outputs": [],
   "source": [
    "from julia.api import Julia\n",
    "jl = Julia(compiled_modules=False)\n",
    "\n",
    "from julia.QMDP import QMDPSolver\n",
    "from julia.SARSOP import SARSOPSolver"
   ]
  },
  {
   "cell_type": "code",
   "execution_count": null,
   "metadata": {},
   "outputs": [],
   "source": []
  }
 ],
 "metadata": {
  "kernelspec": {
   "display_name": "Python 3",
   "language": "python",
   "name": "python3"
  },
  "language_info": {
   "codemirror_mode": {
    "name": "ipython",
    "version": 3
   },
   "file_extension": ".py",
   "mimetype": "text/x-python",
   "name": "python",
   "nbconvert_exporter": "python",
   "pygments_lexer": "ipython3",
   "version": "3.6.9"
  }
 },
 "nbformat": 4,
 "nbformat_minor": 5
}
