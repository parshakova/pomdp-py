{
 "cells": [
  {
   "cell_type": "code",
   "execution_count": 1,
   "metadata": {},
   "outputs": [],
   "source": [
    "import numpy as np\n",
    "import math"
   ]
  },
  {
   "cell_type": "code",
   "execution_count": 2,
   "metadata": {
    "scrolled": true
   },
   "outputs": [
    {
     "name": "stdout",
     "output_type": "stream",
     "text": [
      "|S| = 45\n",
      "|O| = 35\n"
     ]
    }
   ],
   "source": [
    "from cardsample_problem import *"
   ]
  },
  {
   "cell_type": "code",
   "execution_count": null,
   "metadata": {
    "scrolled": false
   },
   "outputs": [
    {
     "name": "stdout",
     "output_type": "stream",
     "text": [
      "*** Testing POMCP ***\n",
      "s0  State((1, 0, 0, 0, 0, 0), 0, None)\n",
      "==== Step 1 ====\n",
      "True state: State((1, 0, 0, 0, 0, 0), 0, None), 1 0\n",
      "Action: Action(1)\n",
      "Observation: Observation((0, 0, 0, 1)),  1\n",
      "Reward: 0.0\n",
      "True next state: State((2, 0, 0, 0, 1, 0), 0, 0), 2 0\n",
      "VNode(20000.000, 0.381 | dict_keys([Action(0), Action(1)])) {Action(0): QNode(9733.000, 0.365 | dict_keys([Observation((0, 1, 0, 0)), Observation((1, 0, 0, 0))])), Action(1): QNode(10268.000, 0.381 | dict_keys([Observation((0, 0, 1, 0)), Observation((0, 0, 0, 1))]))} State((2, 0, 0, 0, 1, 0), 0, 0) Observation((0, 0, 0, 1))\n",
      "{Action(0): 0.3649440407752991, Action(1): 0.38147658109664917}\n",
      "==== Step 2 ====\n",
      "True state: State((2, 0, 0, 0, 1, 0), 0, 0), 2 0\n",
      "Action: Action(1)\n",
      "Observation: Observation((0, 0, 0, 2)),  2\n",
      "Reward: 0.0\n",
      "True next state: State((2, 0, 0, 1, 2, 0), 1, 0), 3 0\n",
      "VNode(25155.000, -0.198 | dict_keys([Action(0), Action(1)])) {Action(0): QNode(3636.000, -0.820 | dict_keys([Observation((1, 0, 0, 1)), Observation((0, 1, 0, 1))])), Action(1): QNode(21520.000, -0.198 | dict_keys([Observation((0, 0, 1, 1)), Observation((0, 0, 0, 2))]))} State((2, 0, 0, 1, 2, 0), 1, 0) Observation((0, 0, 0, 2))\n",
      "{Action(0): -0.8204074501991272, Action(1): -0.19790871441364288}\n",
      "==== Step 3 ====\n",
      "True state: State((2, 0, 0, 1, 2, 0), 1, 0), 3 0\n",
      "Action: Action(1)\n",
      "Observation: Observation((0, 0, 1, 2)),  3\n",
      "Reward: 1.0\n",
      "True next state: State((2, 0, 0, 2, 3, 1), 1, 1), 4 0\n",
      "VNode(27176.000, -0.704 | dict_keys([Action(0), Action(1)])) {Action(0): QNode(1072.000, -2.260 | dict_keys([Observation((0, 1, 0, 2))])), Action(1): QNode(26105.000, -0.704 | dict_keys([Observation((0, 0, 1, 2))]))} State((2, 0, 0, 2, 3, 1), 1, 1) Observation((0, 0, 1, 2))\n",
      "{Action(0): -2.2602620124816895, Action(1): -0.7036588191986084}\n",
      "==== Step 4 ====\n",
      "True state: State((2, 0, 0, 2, 3, 1), 1, 1), 4 0\n",
      "Action: Action(1)\n",
      "Observation: Observation((0, 0, 2, 2)),  4\n",
      "Reward: 0.0\n",
      "True next state: State((2, 0, 0, 2, 4, 2), $, 0), 4 1\n",
      "VNode(44982.000, -2.322 | dict_keys([Action(0), Action(1)])) {Action(0): QNode(22493.000, -2.322 | dict_keys([Observation((0, 1, 1, 2))])), Action(1): QNode(22490.000, -2.322 | dict_keys([Observation((0, 0, 2, 2))]))} State((2, 0, 0, 2, 4, 2), $, 0) Observation((0, 0, 2, 2))\n",
      "{Action(0): -2.32241153717041, Action(1): -2.3224103450775146}\n",
      "Reward (Cumulative): 1.0\n",
      "VNode(19746.000, 0.000 | dict_keys([Action(0), Action(1)]))\n",
      "average reward  1.0 *** iter = 1\n",
      "s0  State((0, 0, 0, 1, 0, 0), 1, None)\n",
      "==== Step 1 ====\n",
      "True state: State((0, 0, 0, 1, 0, 0), 1, None), 1 0\n",
      "Action: Action(1)\n",
      "Observation: Observation((0, 0, 1, 0)),  1\n",
      "Reward: 1.0\n",
      "True next state: State((0, 0, 0, 2, 1, 1), 1, 1), 2 0\n",
      "VNode(40000.000, 0.458 | dict_keys([Action(0), Action(1)])) {Action(0): QNode(18645.000, 0.427 | dict_keys([Observation((0, 1, 0, 0)), Observation((1, 0, 0, 0))])), Action(1): QNode(21356.000, 0.458 | dict_keys([Observation((0, 0, 1, 0)), Observation((0, 0, 0, 1))]))} State((0, 0, 0, 2, 1, 1), 1, 1) Observation((0, 0, 1, 0))\n",
      "{Action(0): 0.42692437767982483, Action(1): 0.4584658443927765}\n",
      "==== Step 2 ====\n",
      "True state: State((0, 0, 0, 2, 1, 1), 1, 1), 2 0\n",
      "Action: Action(0)\n",
      "Observation: Observation((0, 1, 1, 0)),  2\n",
      "Reward: 0.0\n",
      "True next state: State((1, 1, 0, 2, 1, 1), 0, 0), 3 0\n",
      "VNode(30628.000, -0.055 | dict_keys([Action(0), Action(1)])) {Action(0): QNode(26101.000, -0.055 | dict_keys([Observation((1, 0, 1, 0)), Observation((0, 1, 1, 0))])), Action(1): QNode(4528.000, -0.613 | dict_keys([Observation((0, 0, 1, 1)), Observation((0, 0, 2, 0))]))} State((1, 1, 0, 2, 1, 1), 0, 0) Observation((0, 1, 1, 0))\n",
      "{Action(0): -0.05471036583185196, Action(1): -0.6126320362091064}\n",
      "==== Step 3 ====\n",
      "True state: State((1, 1, 0, 2, 1, 1), 0, 0), 3 0\n",
      "Action: Action(0)\n",
      "Observation: Observation((1, 1, 1, 0)),  3\n",
      "Reward: 1.0\n",
      "True next state: State((2, 2, 1, 2, 1, 1), 0, 1), 4 0\n",
      "VNode(28913.000, -0.607 | dict_keys([Action(0), Action(1)])) {Action(0): QNode(27801.000, -0.607 | dict_keys([Observation((1, 1, 1, 0))])), Action(1): QNode(1113.000, -2.145 | dict_keys([Observation((0, 1, 1, 1))]))} State((2, 2, 1, 2, 1, 1), 0, 1) Observation((1, 1, 1, 0))\n",
      "{Action(0): -0.6073158383369446, Action(1): -2.1446521282196045}\n",
      "==== Step 4 ====\n",
      "True state: State((2, 2, 1, 2, 1, 1), 0, 1), 4 0\n",
      "Action: Action(0)\n",
      "Observation: Observation((2, 1, 1, 0)),  4\n",
      "Reward: 0.0\n",
      "True next state: State((2, 3, 2, 2, 1, 1), $, 0), 4 1\n",
      "VNode(45185.000, -2.317 | dict_keys([Action(0), Action(1)])) {Action(0): QNode(22593.000, -2.317 | dict_keys([Observation((2, 1, 1, 0))])), Action(1): QNode(22593.000, -2.317 | dict_keys([Observation((1, 1, 1, 1))]))} State((2, 3, 2, 2, 1, 1), $, 0) Observation((2, 1, 1, 0))\n",
      "{Action(0): -2.3166441917419434, Action(1): -2.3166441917419434}\n",
      "Reward (Cumulative): 2.0\n",
      "VNode(19751.000, 0.000 | dict_keys([Action(0), Action(1)]))\n",
      "average reward  1.5 *** iter = 2\n",
      "s0  State((1, 0, 0, 0, 0, 0), 0, None)\n",
      "==== Step 1 ====\n",
      "True state: State((1, 0, 0, 0, 0, 0), 0, None), 1 0\n",
      "Action: Action(1)\n",
      "Observation: Observation((0, 0, 0, 1)),  1\n",
      "Reward: 0.0\n",
      "True next state: State((1, 0, 0, 1, 1, 0), 1, 0), 2 0\n",
      "VNode(60000.000, 0.510 | dict_keys([Action(0), Action(1)])) {Action(0): QNode(27050.000, 0.472 | dict_keys([Observation((0, 1, 0, 0)), Observation((1, 0, 0, 0))])), Action(1): QNode(32951.000, 0.510 | dict_keys([Observation((0, 0, 1, 0)), Observation((0, 0, 0, 1))]))} State((1, 0, 0, 1, 1, 0), 1, 0) Observation((0, 0, 0, 1))\n",
      "{Action(0): 0.4715351462364197, Action(1): 0.5097290277481079}\n",
      "==== Step 2 ====\n",
      "True state: State((1, 0, 0, 1, 1, 0), 1, 0), 2 0\n",
      "Action: Action(1)\n",
      "Observation: Observation((0, 0, 1, 1)),  2\n",
      "Reward: 1.0\n",
      "True next state: State((2, 0, 0, 1, 2, 1), 0, 1), 3 0\n",
      "VNode(36543.000, 0.067 | dict_keys([Action(0), Action(1)])) {Action(0): QNode(4186.000, -0.575 | dict_keys([Observation((1, 0, 0, 1)), Observation((0, 1, 0, 1))])), Action(1): QNode(32358.000, 0.067 | dict_keys([Observation((0, 0, 1, 1)), Observation((0, 0, 0, 2))]))} State((2, 0, 0, 1, 2, 1), 0, 1) Observation((0, 0, 1, 1))\n",
      "{Action(0): -0.5747721791267395, Action(1): 0.06693842262029648}\n",
      "==== Step 3 ====\n",
      "True state: State((2, 0, 0, 1, 2, 1), 0, 1), 3 0\n",
      "Action: Action(0)\n",
      "Observation: Observation((1, 0, 1, 1)),  3\n",
      "Reward: 1.0\n",
      "True next state: State((2, 1, 1, 2, 2, 1), 1, 1), 4 0\n",
      "VNode(41532.000, -1.254 | dict_keys([Action(0), Action(1)])) {Action(0): QNode(20830.000, -1.254 | dict_keys([Observation((0, 1, 1, 1)), Observation((1, 0, 1, 1))])), Action(1): QNode(20703.000, -1.256 | dict_keys([Observation((0, 0, 2, 1)), Observation((0, 0, 1, 2))]))} State((2, 1, 1, 2, 2, 1), 1, 1) Observation((1, 0, 1, 1))\n",
      "{Action(0): -1.254343867301941, Action(1): -1.2557601928710938}\n",
      "==== Step 4 ====\n",
      "True state: State((2, 1, 1, 2, 2, 1), 1, 1), 4 0\n",
      "Action: Action(0)\n",
      "Observation: Observation((1, 1, 1, 1)),  4\n",
      "Reward: 0.0\n",
      "True next state: State((2, 2, 1, 2, 2, 1), $, 0), 4 1\n",
      "VNode(28056.000, -2.605 | dict_keys([Action(0), Action(1)])) {Action(0): QNode(14030.000, -2.605 | dict_keys([Observation((1, 1, 1, 1))])), Action(1): QNode(14027.000, -2.605 | dict_keys([Observation((1, 0, 2, 1))]))} State((2, 2, 1, 2, 2, 1), $, 0) Observation((1, 1, 1, 1))\n",
      "{Action(0): -2.6049869060516357, Action(1): -2.605046510696411}\n",
      "Reward (Cumulative): 2.0\n",
      "VNode(12521.000, 0.000 | dict_keys([Action(0), Action(1)]))\n",
      "average reward  1.6666666666666667 *** iter = 3\n",
      "s0  State((1, 0, 0, 0, 0, 0), 0, None)\n",
      "==== Step 1 ====\n",
      "True state: State((1, 0, 0, 0, 0, 0), 0, None), 1 0\n",
      "Action: Action(1)\n",
      "Observation: Observation((0, 0, 0, 1)),  1\n",
      "Reward: 0.0\n",
      "True next state: State((2, 0, 0, 0, 1, 0), 0, 0), 2 0\n",
      "VNode(80000.000, 0.528 | dict_keys([Action(0), Action(1)])) {Action(0): QNode(36440.000, 0.498 | dict_keys([Observation((0, 1, 0, 0)), Observation((1, 0, 0, 0))])), Action(1): QNode(43561.000, 0.528 | dict_keys([Observation((0, 0, 1, 0)), Observation((0, 0, 0, 1))]))} State((2, 0, 0, 0, 1, 0), 0, 0) Observation((0, 0, 0, 1))\n",
      "{Action(0): 0.49766895174980164, Action(1): 0.5276762843132019}\n",
      "==== Step 2 ====\n",
      "True state: State((2, 0, 0, 0, 1, 0), 0, 0), 2 0\n",
      "Action: Action(1)\n",
      "Observation: Observation((0, 0, 0, 2)),  2\n",
      "Reward: 0.0\n",
      "True next state: State((2, 0, 0, 1, 2, 0), 1, 0), 3 0\n",
      "VNode(41936.000, 0.146 | dict_keys([Action(0), Action(1)])) {Action(0): QNode(4492.000, -0.491 | dict_keys([Observation((1, 0, 0, 1)), Observation((0, 1, 0, 1))])), Action(1): QNode(37445.000, 0.146 | dict_keys([Observation((0, 0, 1, 1)), Observation((0, 0, 0, 2))]))} State((2, 0, 0, 1, 2, 0), 1, 0) Observation((0, 0, 0, 2))\n",
      "{Action(0): -0.49064987897872925, Action(1): 0.14570751786231995}\n"
     ]
    },
    {
     "name": "stdout",
     "output_type": "stream",
     "text": [
      "==== Step 3 ====\n",
      "True state: State((2, 0, 0, 1, 2, 0), 1, 0), 3 0\n",
      "Action: Action(1)\n",
      "Observation: Observation((0, 0, 1, 2)),  3\n",
      "Reward: 1.0\n",
      "True next state: State((2, 0, 0, 2, 3, 1), 1, 1), 4 0\n",
      "VNode(32553.000, -0.432 | dict_keys([Action(0), Action(1)])) {Action(0): QNode(1124.000, -1.992 | dict_keys([Observation((0, 1, 0, 2))])), Action(1): QNode(31430.000, -0.432 | dict_keys([Observation((0, 0, 1, 2))]))} State((2, 0, 0, 2, 3, 1), 1, 1) Observation((0, 0, 1, 2))\n",
      "{Action(0): -1.9919928312301636, Action(1): -0.4316571056842804}\n",
      "==== Step 4 ====\n",
      "True state: State((2, 0, 0, 2, 3, 1), 1, 1), 4 0\n",
      "Action: Action(0)\n",
      "Observation: Observation((0, 1, 1, 2)),  4\n",
      "Reward: 0.0\n",
      "True next state: State((2, 1, 0, 2, 3, 1), $, 0), 4 1\n",
      "VNode(45454.000, -2.310 | dict_keys([Action(0), Action(1)])) {Action(0): QNode(22728.000, -2.310 | dict_keys([Observation((0, 1, 1, 2))])), Action(1): QNode(22727.000, -2.310 | dict_keys([Observation((0, 0, 2, 2))]))} State((2, 1, 0, 2, 3, 1), $, 0) Observation((0, 1, 1, 2))\n",
      "{Action(0): -2.309793710708618, Action(1): -2.309807062149048}\n",
      "Reward (Cumulative): 1.0\n",
      "VNode(19773.000, 0.000 | dict_keys([Action(0), Action(1)]))\n",
      "average reward  1.5 *** iter = 4\n",
      "s0  State((0, 0, 0, 1, 0, 0), 1, None)\n",
      "==== Step 1 ====\n",
      "True state: State((0, 0, 0, 1, 0, 0), 1, None), 1 0\n",
      "Action: Action(1)\n",
      "Observation: Observation((0, 0, 1, 0)),  1\n",
      "Reward: 1.0\n",
      "True next state: State((1, 0, 0, 1, 1, 1), 0, 1), 2 0\n",
      "VNode(100000.000, 0.544 | dict_keys([Action(0), Action(1)])) {Action(0): QNode(45944.000, 0.519 | dict_keys([Observation((0, 1, 0, 0)), Observation((1, 0, 0, 0))])), Action(1): QNode(54057.000, 0.544 | dict_keys([Observation((0, 0, 1, 0)), Observation((0, 0, 0, 1))]))} State((1, 0, 0, 1, 1, 1), 0, 1) Observation((0, 0, 1, 0))\n",
      "{Action(0): 0.5192201137542725, Action(1): 0.5436137318611145}\n",
      "==== Step 2 ====\n",
      "True state: State((1, 0, 0, 1, 1, 1), 0, 1), 2 0\n",
      "Action: Action(0)\n",
      "Observation: Observation((1, 0, 1, 0)),  2\n",
      "Reward: 1.0\n",
      "True next state: State((1, 1, 1, 2, 1, 1), 1, 1), 3 0\n",
      "VNode(46918.000, 0.204 | dict_keys([Action(0), Action(1)])) {Action(0): QNode(42230.000, 0.204 | dict_keys([Observation((1, 0, 1, 0)), Observation((0, 1, 1, 0))])), Action(1): QNode(4689.000, -0.435 | dict_keys([Observation((0, 0, 1, 1)), Observation((0, 0, 2, 0))]))} State((1, 1, 1, 2, 1, 1), 1, 1) Observation((1, 0, 1, 0))\n",
      "{Action(0): 0.20374172925949097, Action(1): -0.4350612759590149}\n",
      "==== Step 3 ====\n",
      "True state: State((1, 1, 1, 2, 1, 1), 1, 1), 3 0\n",
      "Action: Action(0)\n",
      "Observation: Observation((1, 1, 1, 0)),  3\n",
      "Reward: 0.0\n",
      "True next state: State((2, 2, 1, 2, 1, 1), 0, 0), 4 0\n",
      "VNode(48110.000, -1.076 | dict_keys([Action(0), Action(1)])) {Action(0): QNode(24566.000, -1.076 | dict_keys([Observation((1, 1, 1, 0)), Observation((2, 0, 1, 0))])), Action(1): QNode(23545.000, -1.085 | dict_keys([Observation((1, 0, 1, 1)), Observation((1, 0, 2, 0))]))} State((2, 2, 1, 2, 1, 1), 0, 0) Observation((1, 1, 1, 0))\n",
      "{Action(0): -1.0759953260421753, Action(1): -1.0849864482879639}\n",
      "==== Step 4 ====\n",
      "True state: State((2, 2, 1, 2, 1, 1), 0, 0), 4 0\n",
      "Action: Action(0)\n",
      "Observation: Observation((2, 1, 1, 0)),  4\n",
      "Reward: 0.0\n",
      "True next state: State((2, 3, 2, 2, 1, 1), $, 0), 4 1\n",
      "VNode(28185.000, -2.600 | dict_keys([Action(0), Action(1)])) {Action(0): QNode(14093.000, -2.600 | dict_keys([Observation((2, 1, 1, 0))])), Action(1): QNode(14093.000, -2.600 | dict_keys([Observation((1, 1, 1, 1))]))} State((2, 3, 2, 2, 1, 1), $, 0) Observation((2, 1, 1, 0))\n",
      "{Action(0): -2.599588394165039, Action(1): -2.599588394165039}\n",
      "Reward (Cumulative): 2.0\n",
      "VNode(12547.000, 0.000 | dict_keys([Action(0), Action(1)]))\n",
      "average reward  1.6 *** iter = 5\n",
      "s0  State((1, 0, 0, 0, 0, 0), 0, None)\n",
      "==== Step 1 ====\n",
      "True state: State((1, 0, 0, 0, 0, 0), 0, None), 1 0\n",
      "Action: Action(1)\n",
      "Observation: Observation((0, 0, 0, 1)),  1\n",
      "Reward: 0.0\n",
      "True next state: State((1, 0, 0, 1, 1, 0), 1, 0), 2 0\n",
      "VNode(120000.000, 0.557 | dict_keys([Action(0), Action(1)])) {Action(0): QNode(54822.000, 0.533 | dict_keys([Observation((0, 1, 0, 0)), Observation((1, 0, 0, 0))])), Action(1): QNode(65179.000, 0.557 | dict_keys([Observation((0, 0, 1, 0)), Observation((0, 0, 0, 1))]))} State((1, 0, 0, 1, 1, 0), 1, 0) Observation((0, 0, 0, 1))\n",
      "{Action(0): 0.5329430103302002, Action(1): 0.5569572448730469}\n",
      "==== Step 2 ====\n",
      "True state: State((1, 0, 0, 1, 1, 0), 1, 0), 2 0\n",
      "Action: Action(1)\n",
      "Observation: Observation((0, 0, 1, 1)),  2\n",
      "Reward: 1.0\n",
      "True next state: State((1, 0, 0, 2, 2, 1), 1, 1), 3 0\n",
      "VNode(52683.000, 0.253 | dict_keys([Action(0), Action(1)])) {Action(0): QNode(4727.000, -0.405 | dict_keys([Observation((1, 0, 0, 1)), Observation((0, 1, 0, 1))])), Action(1): QNode(47957.000, 0.253 | dict_keys([Observation((0, 0, 1, 1)), Observation((0, 0, 0, 2))]))} State((1, 0, 0, 2, 2, 1), 1, 1) Observation((0, 0, 1, 1))\n",
      "{Action(0): -0.40533071756362915, Action(1): 0.25277531147003174}\n",
      "==== Step 3 ====\n",
      "True state: State((1, 0, 0, 2, 2, 1), 1, 1), 3 0\n",
      "Action: Action(0)\n",
      "Observation: Observation((0, 1, 1, 1)),  3\n",
      "Reward: 0.0\n",
      "True next state: State((2, 1, 0, 2, 2, 1), 0, 0), 4 0\n",
      "VNode(51763.000, -1.004 | dict_keys([Action(0), Action(1)])) {Action(0): QNode(25983.000, -1.004 | dict_keys([Observation((1, 0, 1, 1)), Observation((0, 1, 1, 1))])), Action(1): QNode(25781.000, -1.006 | dict_keys([Observation((0, 0, 2, 1)), Observation((0, 0, 1, 2))]))} State((2, 1, 0, 2, 2, 1), 0, 0) Observation((0, 1, 1, 1))\n",
      "{Action(0): -1.0043123960494995, Action(1): -1.0058966875076294}\n",
      "==== Step 4 ====\n",
      "True state: State((2, 1, 0, 2, 2, 1), 0, 0), 4 0\n",
      "Action: Action(1)\n",
      "Observation: Observation((0, 1, 1, 2)),  4\n",
      "Reward: 0.0\n",
      "True next state: State((2, 1, 0, 2, 3, 1), $, 0), 4 1\n",
      "VNode(28067.000, -2.603 | dict_keys([Action(0), Action(1)])) {Action(0): QNode(14032.000, -2.604 | dict_keys([Observation((1, 1, 1, 1))])), Action(1): QNode(14036.000, -2.603 | dict_keys([Observation((0, 1, 1, 2))]))} State((2, 1, 0, 2, 3, 1), $, 0) Observation((0, 1, 1, 2))\n",
      "{Action(0): -2.6035499572753906, Action(1): -2.6034505367279053}\n",
      "Reward (Cumulative): 1.0\n",
      "VNode(12509.000, 0.000 | dict_keys([Action(0), Action(1)]))\n",
      "average reward  1.5 *** iter = 6\n",
      "s0  State((1, 0, 0, 0, 0, 0), 0, None)\n",
      "==== Step 1 ====\n"
     ]
    }
   ],
   "source": [
    "T = P.m*P.n\n",
    "init_true_state= get_random_state()\n",
    "init_belief_hist = init_belief_particle_s0(all_states)\n",
    "init_belief_part = init_belief_particle_s0(all_states)\n",
    "card_problem = CardProblem(init_true_state, init_belief_hist)\n",
    "card_problem.agent.tree = None\n",
    "\n",
    "print(\"*** Testing POMCP ***\")\n",
    "\n",
    "card_problem.agent.tree = None\n",
    "n_iter = 100\n",
    "reuse = False\n",
    "\n",
    "pomcp = pomdp_py.POMCP(max_depth=T//2, discount_factor=1.,\n",
    "                           num_sims=20000, exploration_const=20,\n",
    "                           rollout_policy=card_problem.agent.policy_model,\n",
    "                           num_visits_init=1)\n",
    "\n",
    "mcp_rewards = mc_average(card_problem, pomcp, n_iter, \"rewards_pomcp%d.npy\"%n_iter, init_belief_part, reuse, T)"
   ]
  },
  {
   "cell_type": "code",
   "execution_count": null,
   "metadata": {},
   "outputs": [],
   "source": [
    "for a in range(P.n):\n",
    "    print(card_problem.agent.tree[a], card_problem.agent.tree)\n",
    "    print(tree_i[a])"
   ]
  },
  {
   "cell_type": "code",
   "execution_count": null,
   "metadata": {},
   "outputs": [],
   "source": [
    "planner = pomcp\n",
    "\n",
    "s0 = env_reset_s0(card_problem)\n",
    "print(\"s0 \",   s0)\n",
    "total_reward = 0\n",
    "action = planner.plan(card_problem.agent)\n",
    "#action = policy.sample(card_problem.agent.cur_belief)\n",
    "\n",
    "true_state = copy.deepcopy(card_problem.env.state)\n",
    "env_reward = card_problem.env.state_transition(action, execute=True)\n",
    "true_next_state = copy.deepcopy(card_problem.env.state)\n",
    "real_observation = card_problem.env.provide_observation(card_problem.agent.observation_model, action)\n",
    "card_problem.agent.update_history(action, real_observation)    \n",
    "    \n",
    "    \n",
    "print(\"True state: %s, %d %d\" % (true_state, np.array(true_state.val)[::3].sum(), int(true_state.terminal)))\n",
    "print(\"Action: %s\" % str(action))\n",
    "print(\"Observation: %s,  %d\" % (str(real_observation), np.array(real_observation.val).sum()))\n",
    "print(\"Reward: %s\" % str(np.maximum(0, env_reward)))\n",
    "print(\"True next state: %s, %d %d\" % (true_next_state, \n",
    "    np.array(true_next_state.val)[::3].sum(), int(true_next_state.terminal)))\n",
    "\n",
    "env_reward = card_problem.env.state_transition(action, execute=True)\n",
    "true_next_state = copy.deepcopy(card_problem.env.state)\n",
    "real_observation = card_problem.env.provide_observation(card_problem.agent.observation_model, action)\n",
    "card_problem.agent.update_history(action, real_observation)    \n",
    "    \n",
    "    \n",
    "print(\"True state: %s, %d %d\" % (true_state, np.array(true_state.val)[::3].sum(), int(true_state.terminal)))\n",
    "print(\"Action: %s\" % str(action))\n",
    "print(\"Observation: %s,  %d\" % (str(real_observation), np.array(real_observation.val).sum()))\n",
    "print(\"Reward: %s\" % str(np.maximum(0, env_reward)))\n",
    "print(\"True next state: %s, %d %d\" % (true_next_state, \n",
    "    np.array(true_next_state.val)[::3].sum(), int(true_next_state.terminal)))"
   ]
  },
  {
   "cell_type": "code",
   "execution_count": null,
   "metadata": {},
   "outputs": [],
   "source": []
  },
  {
   "cell_type": "code",
   "execution_count": null,
   "metadata": {
    "scrolled": true
   },
   "outputs": [],
   "source": [
    "s0 = State(tuple(np.zeros(3*P.n, np.int32)), -1)\n",
    "all_states = set()\n",
    "create_all_states(s0, all_states)"
   ]
  },
  {
   "cell_type": "code",
   "execution_count": null,
   "metadata": {},
   "outputs": [],
   "source": [
    "(P.n*2)**(P.n*P.m)"
   ]
  },
  {
   "cell_type": "code",
   "execution_count": null,
   "metadata": {},
   "outputs": [],
   "source": [
    "len(all_states)"
   ]
  },
  {
   "cell_type": "code",
   "execution_count": null,
   "metadata": {},
   "outputs": [],
   "source": [
    "# states for n=5;m=2 is 330438"
   ]
  },
  {
   "cell_type": "code",
   "execution_count": null,
   "metadata": {},
   "outputs": [],
   "source": [
    "for s in all_states:\n",
    "    val = np.array(s.val)\n",
    "    if (val[::3].sum()-1 != val[1::3].sum()) and s.card != \"$\" :\n",
    "        print(s, val[::3].sum(), val[1::3].sum(),\"error in states actions\")"
   ]
  },
  {
   "cell_type": "code",
   "execution_count": null,
   "metadata": {},
   "outputs": [],
   "source": [
    "all_obs = create_all_observations(all_states)"
   ]
  },
  {
   "cell_type": "code",
   "execution_count": null,
   "metadata": {},
   "outputs": [],
   "source": [
    "len(all_obs)"
   ]
  },
  {
   "cell_type": "code",
   "execution_count": null,
   "metadata": {},
   "outputs": [],
   "source": [
    "rewards_all = np.load(\"rewards_pomcp100.npy\")\n",
    "\n",
    "num = (rewards_all != 0).sum()\n",
    "print(num)\n",
    "\n",
    "print(rewards_all.sum() * 1.0 / num)"
   ]
  },
  {
   "cell_type": "code",
   "execution_count": null,
   "metadata": {},
   "outputs": [],
   "source": [
    "rewards_all = np.load(\"rewards_pouct500_colab.npy\")\n",
    "\n",
    "num = (rewards_all != 0).sum()\n",
    "print(num)\n",
    "\n",
    "print(rewards_all.sum() * 1.0 / num)"
   ]
  },
  {
   "cell_type": "code",
   "execution_count": null,
   "metadata": {},
   "outputs": [],
   "source": [
    "rewards_all"
   ]
  },
  {
   "cell_type": "code",
   "execution_count": null,
   "metadata": {},
   "outputs": [],
   "source": [
    "card_problem.agent.tree.children"
   ]
  },
  {
   "cell_type": "code",
   "execution_count": null,
   "metadata": {},
   "outputs": [],
   "source": []
  },
  {
   "cell_type": "code",
   "execution_count": null,
   "metadata": {},
   "outputs": [],
   "source": [
    "rewards_all"
   ]
  },
  {
   "cell_type": "code",
   "execution_count": null,
   "metadata": {},
   "outputs": [],
   "source": []
  },
  {
   "cell_type": "code",
   "execution_count": null,
   "metadata": {},
   "outputs": [],
   "source": [
    "from julia.api import Julia\n",
    "jl = Julia(compiled_modules=False)\n",
    "\n",
    "from julia.QMDP import QMDPSolver\n",
    "from julia.SARSOP import SARSOPSolver"
   ]
  },
  {
   "cell_type": "code",
   "execution_count": null,
   "metadata": {},
   "outputs": [],
   "source": []
  }
 ],
 "metadata": {
  "kernelspec": {
   "display_name": "Python 3",
   "language": "python",
   "name": "python3"
  },
  "language_info": {
   "codemirror_mode": {
    "name": "ipython",
    "version": 3
   },
   "file_extension": ".py",
   "mimetype": "text/x-python",
   "name": "python",
   "nbconvert_exporter": "python",
   "pygments_lexer": "ipython3",
   "version": "3.6.9"
  }
 },
 "nbformat": 4,
 "nbformat_minor": 5
}
