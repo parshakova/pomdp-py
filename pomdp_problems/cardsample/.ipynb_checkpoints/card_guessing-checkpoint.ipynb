{
 "cells": [
  {
   "cell_type": "code",
   "execution_count": 1,
   "metadata": {},
   "outputs": [],
   "source": [
    "import numpy as np\n",
    "import math"
   ]
  },
  {
   "cell_type": "code",
   "execution_count": 2,
   "metadata": {
    "scrolled": true
   },
   "outputs": [
    {
     "name": "stdout",
     "output_type": "stream",
     "text": [
      "|S| = 45\n",
      "|O| = 35\n"
     ]
    }
   ],
   "source": [
    "from cardsample_problem import *"
   ]
  },
  {
   "cell_type": "code",
   "execution_count": 4,
   "metadata": {
    "scrolled": false
   },
   "outputs": [
    {
     "name": "stdout",
     "output_type": "stream",
     "text": [
      "*** Testing POMCP ***\n",
      "s0  State((0, 0, 0, 1, 0, 0), 1, None)\n",
      "==== Step 1 ====\n",
      "True state: State((0, 0, 0, 1, 0, 0), 1, None), 1 0\n",
      "Action: Action(1)\n",
      "Observation: Observation((0, 0, 1, 0)),  1\n",
      "Reward: 1.0\n",
      "{Observation((0, 0, 1, 0)): VNode(9841.000, 0.000, 9840 | dict_keys([Action(0), Action(1)])), Observation((0, 0, 0, 1)): VNode(9800.000, 0.000, 9799 | dict_keys([Action(0), Action(1)]))}\n",
      "==== Step 2 ====\n",
      "True state: State((0, 0, 0, 2, 1, 1), 1, 1), 2 0\n",
      "Action: Action(0)\n",
      "Observation: Observation((0, 1, 1, 0)),  2\n",
      "Reward: 0.0\n",
      "{Observation((0, 1, 1, 0)): VNode(9807.000, 0.000, 6764 | dict_keys([Action(0), Action(1)])), Observation((1, 0, 1, 0)): VNode(19150.000, 0.000, 13236 | dict_keys([Action(0), Action(1)]))}\n",
      "==== Step 3 ====\n",
      "True state: State((1, 1, 0, 2, 1, 1), 0, 0), 3 0\n",
      "Action: Action(0)\n",
      "Observation: Observation((1, 1, 1, 0)),  3\n",
      "Reward: 1.0\n",
      "{Observation((1, 1, 1, 0)): VNode(29560.000, 0.000, 20000 | dict_keys([Action(0), Action(1)]))}\n",
      "==== Step 4 ====\n",
      "True state: State((2, 2, 1, 2, 1, 1), 0, 1), 4 0\n",
      "Action: Action(0)\n",
      "Observation: Observation((2, 1, 1, 0)),  4\n",
      "Reward: 1.0\n",
      "{Observation((2, 1, 1, 0)): VNode(49515.000, 0.000, 20000 | dict_keys([Action(0), Action(1)]))}\n",
      "==== Step 5 ====\n",
      "True state: State((2, 3, 2, 2, 1, 1), $, 1), 4 1\n",
      "Action: Action(0)\n",
      "Observation: Observation((2, 1, 1, 0)),  4\n",
      "Reward: 1.0\n",
      "{Observation((2, 1, 1, 0)): VNode(64749.000, 0.000, 20000 | dict_keys([Action(0), Action(1)]))}\n",
      "Reward (Cumulative): 4.0\n",
      "VNode(64749.000, 0.000 | dict_keys([Action(0), Action(1)]))\n",
      "s0  State((0, 0, 0, 1, 0, 0), 1, None)\n",
      "==== Step 1 ====\n",
      "True state: State((0, 0, 0, 1, 0, 0), 1, None), 1 1\n",
      "Action: Action(0)\n",
      "Observation: Observation((0, 0, 0, 0)),  0\n",
      "Reward: 0.0\n",
      "{Observation((2, 1, 1, 0)): VNode(62371.000, 0.000, 0 | dict_keys([Action(0), Action(1)])), Observation((1, 0, 0, 0)): VNode(9953.000, 0.000, 9952 | dict_keys([Action(0), Action(1)])), Observation((0, 1, 0, 0)): VNode(10047.000, 0.000, 10046 | dict_keys([Action(0), Action(1)]))}\n"
     ]
    },
    {
     "ename": "ValueError",
     "evalue": "Particle deprivation.",
     "output_type": "error",
     "traceback": [
      "\u001b[0;31m--------\u001b[0m",
      "\u001b[0;31mValueError\u001b[0mTraceback (most recent call last)",
      "\u001b[0;32m<ipython-input-4-263240bbee7e>\u001b[0m in \u001b[0;36m<module>\u001b[0;34m\u001b[0m\n\u001b[0;32m----> 1\u001b[0;31m \u001b[0mmain\u001b[0m\u001b[0;34m(\u001b[0m\u001b[0;34m)\u001b[0m\u001b[0;34m\u001b[0m\u001b[0;34m\u001b[0m\u001b[0m\n\u001b[0m",
      "\u001b[0;32m~/Music/21winter/approx_algo/pomdp-py/pomdp_problems/cardsample/cardsample_problem.py\u001b[0m in \u001b[0;36mmain\u001b[0;34m()\u001b[0m\n\u001b[1;32m    569\u001b[0m         \u001b[0mcard_problem\u001b[0m\u001b[0;34m.\u001b[0m\u001b[0magent\u001b[0m\u001b[0;34m.\u001b[0m\u001b[0mset_belief\u001b[0m\u001b[0;34m(\u001b[0m\u001b[0minit_belief_particle_s0\u001b[0m\u001b[0;34m(\u001b[0m\u001b[0mall_states\u001b[0m\u001b[0;34m)\u001b[0m\u001b[0;34m,\u001b[0m \u001b[0mprior\u001b[0m \u001b[0;34m=\u001b[0m \u001b[0;32mTrue\u001b[0m\u001b[0;34m)\u001b[0m\u001b[0;34m\u001b[0m\u001b[0;34m\u001b[0m\u001b[0m\n\u001b[1;32m    570\u001b[0m \u001b[0;34m\u001b[0m\u001b[0m\n\u001b[0;32m--> 571\u001b[0;31m         \u001b[0mr\u001b[0m \u001b[0;34m=\u001b[0m \u001b[0mtest_planner\u001b[0m\u001b[0;34m(\u001b[0m\u001b[0mcard_problem\u001b[0m\u001b[0;34m,\u001b[0m \u001b[0mpomcp\u001b[0m\u001b[0;34m,\u001b[0m \u001b[0mnsteps\u001b[0m\u001b[0;34m=\u001b[0m\u001b[0mT\u001b[0m\u001b[0;34m)\u001b[0m\u001b[0;34m\u001b[0m\u001b[0;34m\u001b[0m\u001b[0m\n\u001b[0m\u001b[1;32m    572\u001b[0m         \u001b[0mprint\u001b[0m\u001b[0;34m(\u001b[0m\u001b[0mcard_problem\u001b[0m\u001b[0;34m.\u001b[0m\u001b[0magent\u001b[0m\u001b[0;34m.\u001b[0m\u001b[0mtree\u001b[0m\u001b[0;34m)\u001b[0m\u001b[0;34m\u001b[0m\u001b[0;34m\u001b[0m\u001b[0m\n\u001b[1;32m    573\u001b[0m \u001b[0;34m\u001b[0m\u001b[0m\n",
      "\u001b[0;32m~/Music/21winter/approx_algo/pomdp-py/pomdp_problems/cardsample/cardsample_problem.py\u001b[0m in \u001b[0;36mtest_planner\u001b[0;34m(card_problem, planner, nsteps)\u001b[0m\n\u001b[1;32m    445\u001b[0m \u001b[0;34m\u001b[0m\u001b[0m\n\u001b[1;32m    446\u001b[0m         \u001b[0mprint\u001b[0m\u001b[0;34m(\u001b[0m\u001b[0mcard_problem\u001b[0m\u001b[0;34m.\u001b[0m\u001b[0magent\u001b[0m\u001b[0;34m.\u001b[0m\u001b[0mtree\u001b[0m\u001b[0;34m[\u001b[0m\u001b[0maction\u001b[0m\u001b[0;34m]\u001b[0m\u001b[0;34m.\u001b[0m\u001b[0mchildren\u001b[0m\u001b[0;34m)\u001b[0m\u001b[0;34m\u001b[0m\u001b[0;34m\u001b[0m\u001b[0m\n\u001b[0;32m--> 447\u001b[0;31m         \u001b[0mplanner\u001b[0m\u001b[0;34m.\u001b[0m\u001b[0mupdate\u001b[0m\u001b[0;34m(\u001b[0m\u001b[0mcard_problem\u001b[0m\u001b[0;34m.\u001b[0m\u001b[0magent\u001b[0m\u001b[0;34m,\u001b[0m \u001b[0maction\u001b[0m\u001b[0;34m,\u001b[0m \u001b[0mreal_observation\u001b[0m\u001b[0;34m)\u001b[0m\u001b[0;34m\u001b[0m\u001b[0;34m\u001b[0m\u001b[0m\n\u001b[0m\u001b[1;32m    448\u001b[0m \u001b[0;34m\u001b[0m\u001b[0m\n\u001b[1;32m    449\u001b[0m \u001b[0;34m\u001b[0m\u001b[0m\n",
      "\u001b[0;32m~/Music/21winter/approx_algo/pomdp-py/pomdp_py/algorithms/pomcp.pyx\u001b[0m in \u001b[0;36mpomdp_py.algorithms.pomcp.POMCP.update\u001b[0;34m()\u001b[0m\n",
      "\u001b[0;32m~/Music/21winter/approx_algo/pomdp-py/pomdp_py/algorithms/pomcp.pyx\u001b[0m in \u001b[0;36mpomdp_py.algorithms.pomcp.POMCP.update\u001b[0;34m()\u001b[0m\n",
      "\u001b[0;31mValueError\u001b[0m: Particle deprivation."
     ]
    }
   ],
   "source": [
    "T = P.m*P.n+1\n",
    "init_true_state= get_random_state()\n",
    "#init_belief = init_belief_particle(all_states)\n",
    "init_belief_hist = init_belief_particle_s0(all_states)\n",
    "card_problem = CardProblem(init_true_state, init_belief_hist)\n",
    "\n",
    "card_problem.agent.tree = None\n",
    "\n",
    "print(\"*** Testing POMCP ***\")\n",
    "\n",
    "pomcp = pomdp_py.POMCP(max_depth=6, discount_factor=1.,\n",
    "                           num_sims=20000, exploration_const=20,\n",
    "                           rollout_policy=card_problem.agent.policy_model,\n",
    "                           num_visits_init=1)\n",
    "\n",
    "n_iter = 5\n",
    "rewards = np.zeros(n_iter)\n",
    "\n",
    "for it in range(n_iter):\n",
    "    card_problem.agent.set_belief(init_belief_particle_s0(all_states), prior = True)\n",
    "\n",
    "    r = test_planner(card_problem, pomcp, nsteps=T)\n",
    "    print(card_problem.agent.tree)\n",
    "\n",
    "    rewards[it] = r\n",
    "\n",
    "print(\"average reward \", rewards.mean(), \"over %d iter\"%n_iter)"
   ]
  },
  {
   "cell_type": "code",
   "execution_count": null,
   "metadata": {},
   "outputs": [],
   "source": []
  },
  {
   "cell_type": "code",
   "execution_count": null,
   "metadata": {
    "scrolled": true
   },
   "outputs": [],
   "source": [
    "s0 = State(tuple(np.zeros(3*P.n, np.int32)), -1)\n",
    "all_states = set()\n",
    "create_all_states(s0, all_states)"
   ]
  },
  {
   "cell_type": "code",
   "execution_count": null,
   "metadata": {},
   "outputs": [],
   "source": [
    "all_states"
   ]
  },
  {
   "cell_type": "code",
   "execution_count": null,
   "metadata": {},
   "outputs": [],
   "source": [
    "(P.n*2)**(P.n*P.m)"
   ]
  },
  {
   "cell_type": "code",
   "execution_count": null,
   "metadata": {},
   "outputs": [],
   "source": [
    "len(all_states)"
   ]
  },
  {
   "cell_type": "code",
   "execution_count": null,
   "metadata": {},
   "outputs": [],
   "source": [
    "# states for n=5;m=2 is 330438"
   ]
  },
  {
   "cell_type": "code",
   "execution_count": null,
   "metadata": {},
   "outputs": [],
   "source": [
    "for s in all_states:\n",
    "    val = np.array(s.val)\n",
    "    if (val[::3].sum()-1 != val[1::3].sum()) and s.card != \"$\" :\n",
    "        print(s, val[::3].sum(), val[1::3].sum(),\"error in states actions\")"
   ]
  },
  {
   "cell_type": "code",
   "execution_count": null,
   "metadata": {},
   "outputs": [],
   "source": [
    "all_obs = create_all_observations(all_states)"
   ]
  },
  {
   "cell_type": "code",
   "execution_count": null,
   "metadata": {},
   "outputs": [],
   "source": [
    "len(all_obs)"
   ]
  },
  {
   "cell_type": "code",
   "execution_count": null,
   "metadata": {},
   "outputs": [],
   "source": [
    "from julia.api import Julia\n",
    "jl = Julia(compiled_modules=False)\n",
    "\n",
    "from julia.QMDP import QMDPSolver\n",
    "from julia.SARSOP import SARSOPSolver"
   ]
  },
  {
   "cell_type": "code",
   "execution_count": null,
   "metadata": {},
   "outputs": [],
   "source": []
  }
 ],
 "metadata": {
  "kernelspec": {
   "display_name": "Python 3",
   "language": "python",
   "name": "python3"
  },
  "language_info": {
   "codemirror_mode": {
    "name": "ipython",
    "version": 3
   },
   "file_extension": ".py",
   "mimetype": "text/x-python",
   "name": "python",
   "nbconvert_exporter": "python",
   "pygments_lexer": "ipython3",
   "version": "3.6.9"
  }
 },
 "nbformat": 4,
 "nbformat_minor": 5
}
